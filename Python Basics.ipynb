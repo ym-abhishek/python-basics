{
 "cells": [
  {
   "cell_type": "markdown",
   "id": "ff08f3e9",
   "metadata": {},
   "source": [
    "## Python Notes\n",
    "### Len Function\n",
    "- Len function is used to count the number of elements."
   ]
  },
  {
   "cell_type": "code",
   "execution_count": 3,
   "id": "cba7daa6",
   "metadata": {},
   "outputs": [
    {
     "name": "stdout",
     "output_type": "stream",
     "text": [
      "5\n"
     ]
    }
   ],
   "source": [
    "list_names = [\"Mahesh\", \"Ram\", \"Nithin\", \"Nikhil\", \"Nani\"]\n",
    "print(len(list_names))"
   ]
  },
  {
   "cell_type": "markdown",
   "id": "c55dfb27",
   "metadata": {},
   "source": [
    "## Comments\n",
    "- Sigle line comments\n",
    "    starts with \"#\"\n",
    "- Multiline comments\n",
    "    starts with \"\"\" and end with \"\"\"\n",
    "    multiline comments uses storage to store."
   ]
  },
  {
   "cell_type": "code",
   "execution_count": 4,
   "id": "c16e3134",
   "metadata": {},
   "outputs": [
    {
     "data": {
      "text/plain": [
       "' Multipline comment is typed \\n    in this manner.'"
      ]
     },
     "execution_count": 4,
     "metadata": {},
     "output_type": "execute_result"
    }
   ],
   "source": [
    "# Single line comment.\n",
    "\"\"\" Multipline comment is typed \n",
    "    in this manner.\"\"\""
   ]
  },
  {
   "cell_type": "markdown",
   "id": "3dd0c6e7",
   "metadata": {},
   "source": [
    "### Naming Conventions\n",
    "There are three naming conventions\n",
    "- Camel case - electronicArts\n",
    "- Pascal case - ElectronicArts\n",
    "- Snake case - electronic_arts"
   ]
  },
  {
   "cell_type": "markdown",
   "id": "06762c9c",
   "metadata": {},
   "source": [
    "### Variables\n",
    "- Variable names always should be small letters or snakecase letters.\n",
    "- If double words are used we should type them like \"hello_worlds\".\n",
    "- Variable names can be started with underscores \"_\".\n",
    "- Variable names can't be started with numbers.\n",
    "- Variable names can use numbers at the end of variable name like \"list1\""
   ]
  },
  {
   "cell_type": "markdown",
   "id": "b7961daf",
   "metadata": {},
   "source": [
    "- In the below code we have assigned a variable to 56 like a.\n",
    "- variables are also called has identifiers.\n",
    "- variables store the values inside them.\n",
    "- specifying same name will replace the previous value in the variable(ex: a = 5 and  a = 6)."
   ]
  },
  {
   "cell_type": "code",
   "execution_count": 54,
   "id": "d2733de6",
   "metadata": {},
   "outputs": [],
   "source": [
    "a = 56\n",
    "b = \"ram\"\n",
    "c = 0.56"
   ]
  },
  {
   "cell_type": "markdown",
   "id": "3d08f29c",
   "metadata": {},
   "source": [
    "### Concatenation using variables"
   ]
  },
  {
   "cell_type": "code",
   "execution_count": 55,
   "id": "66bcfabc",
   "metadata": {},
   "outputs": [
    {
     "name": "stdout",
     "output_type": "stream",
     "text": [
      "Hello World!\n"
     ]
    }
   ],
   "source": [
    "word1 = \"Hello\"\n",
    "word2 = \"World\"\n",
    "word3 = \"!\"\n",
    "print(word1 + \" \" + word2 +word3)"
   ]
  },
  {
   "cell_type": "markdown",
   "id": "11c55378",
   "metadata": {},
   "source": [
    "### Concatenation using join fuction"
   ]
  },
  {
   "cell_type": "code",
   "execution_count": null,
   "id": "b066ad64",
   "metadata": {},
   "outputs": [],
   "source": [
    "word1 = \"Hello\"\n",
    "word2 = \"World!\"\n",
    "concatenate_string = \" \".join([word1, word2])\n",
    "print(concatenate_string)"
   ]
  },
  {
   "cell_type": "markdown",
   "id": "d9bf580b",
   "metadata": {},
   "source": [
    "### Type Function\n",
    "- It is used to know which type of datatype we are using."
   ]
  },
  {
   "cell_type": "code",
   "execution_count": 6,
   "id": "12db9947",
   "metadata": {},
   "outputs": [
    {
     "name": "stdout",
     "output_type": "stream",
     "text": [
      "<class 'int'>\n",
      "<class 'str'>\n",
      "<class 'float'>\n",
      "<class 'list'>\n",
      "<class 'tuple'>\n",
      "<class 'dict'>\n",
      "<class 'set'>\n",
      "<class 'complex'>\n"
     ]
    }
   ],
   "source": [
    "a = 5\n",
    "b = \"Hello World\"\n",
    "c = 0.8\n",
    "d = [1, 2, 3, 4]\n",
    "e = (\"Ram\", \"Nithin\")\n",
    "f = {\"name\":\"Ram\", \"Age\":23, \"city\":\"Bangalore\"}\n",
    "g = {1, 2, 3, 0.5, \"car\", \"bike\", \"ship\", \"train\"}\n",
    "h = 8j\n",
    "print(type(a))\n",
    "print(type(b))\n",
    "print(type(c))\n",
    "print(type(d))\n",
    "print(type(e))\n",
    "print(type(f))\n",
    "print(type(g))\n",
    "print(type(h))"
   ]
  },
  {
   "cell_type": "markdown",
   "id": "37651582",
   "metadata": {},
   "source": [
    "### Type Conversion"
   ]
  },
  {
   "cell_type": "code",
   "execution_count": 10,
   "id": "b43a936f",
   "metadata": {},
   "outputs": [
    {
     "name": "stdout",
     "output_type": "stream",
     "text": [
      "1.0\n",
      "2\n",
      "(5+0j)\n",
      "<class 'float'>\n",
      "<class 'int'>\n",
      "<class 'complex'>\n"
     ]
    }
   ],
   "source": [
    "a = float(1)\n",
    "b = int(2.5)\n",
    "c = complex(5)\n",
    "\n",
    "print(a)\n",
    "print(b)\n",
    "print(c)\n",
    "print(type(a))\n",
    "print(type(b))\n",
    "print(type(c))"
   ]
  },
  {
   "cell_type": "markdown",
   "id": "de5d1fc5",
   "metadata": {},
   "source": [
    "### Data Types\n",
    "- Numeric\n",
    "    - Integer\n",
    "    - Float\n",
    "    - Complex Number\n",
    "- Dictionary\n",
    "- Boolean\n",
    "- Set\n",
    "- Sequence\n",
    "    - String\n",
    "    - Tuple\n",
    "    - List"
   ]
  },
  {
   "cell_type": "markdown",
   "id": "503c3188",
   "metadata": {},
   "source": [
    "### Integer"
   ]
  },
  {
   "cell_type": "code",
   "execution_count": 11,
   "id": "47159fc1",
   "metadata": {},
   "outputs": [
    {
     "name": "stdout",
     "output_type": "stream",
     "text": [
      "24\n",
      "25\n",
      "27\n"
     ]
    }
   ],
   "source": [
    "print(24)\n",
    "print(25)\n",
    "print(27)"
   ]
  },
  {
   "cell_type": "markdown",
   "id": "b733d5d9",
   "metadata": {},
   "source": [
    "### Float"
   ]
  },
  {
   "cell_type": "code",
   "execution_count": 12,
   "id": "1ab3f4e3",
   "metadata": {},
   "outputs": [
    {
     "name": "stdout",
     "output_type": "stream",
     "text": [
      "0.5\n",
      "0.6\n",
      "0.7\n"
     ]
    }
   ],
   "source": [
    "print(0.5)\n",
    "print(0.6)\n",
    "print(0.7)"
   ]
  },
  {
   "cell_type": "markdown",
   "id": "7e67bad9",
   "metadata": {},
   "source": [
    "### Complex Numbers"
   ]
  },
  {
   "cell_type": "code",
   "execution_count": 13,
   "id": "d2bbd082",
   "metadata": {},
   "outputs": [
    {
     "name": "stdout",
     "output_type": "stream",
     "text": [
      "15j\n"
     ]
    }
   ],
   "source": [
    "a = 5j\n",
    "b = 10j\n",
    "print(a+b)"
   ]
  },
  {
   "cell_type": "markdown",
   "id": "a639600e",
   "metadata": {},
   "source": [
    "### Dictionary\n",
    "\n",
    "- Dictionary contains a Key and a Value (\"Key\":\"Value\")\n",
    "- Dictionary can't be accessed throug index numbers.\n",
    "- Mutable.\n",
    "- Duplicates not allowed.\n",
    "- Any Data type is allowed.\n",
    "- Dictionary constructor \"dict()\".\n",
    "- We can print only keys by using dict.keys(variable name).\n",
    "- We can print only value by using dict.values(variable name)."
   ]
  },
  {
   "cell_type": "code",
   "execution_count": 19,
   "id": "765c358a",
   "metadata": {},
   "outputs": [
    {
     "name": "stdout",
     "output_type": "stream",
     "text": [
      "{'car': 'It is a Mechanical Terrain Transport vehicle', 'ship': 'It is a Mechanical Naval Transport Vehicle', 'aeroplane': 'It is a Mechanical Air Transport Vehicle'}\n"
     ]
    }
   ],
   "source": [
    "list_dictionary = {\n",
    "    \"car\":\"It is a Mechanical Terrain Transport vehicle\",\n",
    "    \"ship\":\"It is a Mechanical Naval Transport Vehicle\",\n",
    "    \"aeroplane\": \"It is a Mechanical Air Transport Vehicle\"\n",
    "}\n",
    "print(list_dictionary)"
   ]
  },
  {
   "cell_type": "code",
   "execution_count": 21,
   "id": "346c2dcd",
   "metadata": {},
   "outputs": [
    {
     "data": {
      "text/plain": [
       "'It is a Mechanical Terrain Transport vehicle'"
      ]
     },
     "execution_count": 21,
     "metadata": {},
     "output_type": "execute_result"
    }
   ],
   "source": [
    "list_dictionary = {\n",
    "    \"car\":\"It is a Mechanical Terrain Transport vehicle\",\n",
    "    \"ship\":\"It is a Mechanical Naval Transport Vehicle\",\n",
    "    \"aeroplane\": \"It is a Mechanical Air Transport Vehicle\"\n",
    "}\n",
    "list_dictionary[\"car\"]"
   ]
  },
  {
   "cell_type": "code",
   "execution_count": 22,
   "id": "56b8d868",
   "metadata": {},
   "outputs": [
    {
     "name": "stdout",
     "output_type": "stream",
     "text": [
      "{'name': 'Krish', 'age': 23, 'Boolean': True, 'float': 0.5}\n"
     ]
    }
   ],
   "source": [
    "list_diffdatatypes = {\n",
    "    \"name\":\"Krish\", \"age\":23, \"Boolean\":True, \"float\":0.5\n",
    "}\n",
    "print(list_diffdatatypes)"
   ]
  },
  {
   "cell_type": "code",
   "execution_count": 1,
   "id": "fa8a21af",
   "metadata": {},
   "outputs": [
    {
     "data": {
      "text/plain": [
       "dict_keys(['car', 'ship', 'aeroplane'])"
      ]
     },
     "execution_count": 1,
     "metadata": {},
     "output_type": "execute_result"
    }
   ],
   "source": [
    "list_dictionary = {\n",
    "    \"car\":\"It is a Mechanical Terrain Transport vehicle\",\n",
    "    \"ship\":\"It is a Mechanical Naval Transport Vehicle\",\n",
    "    \"aeroplane\": \"It is a Mechanical Air Transport Vehicle\"\n",
    "}\n",
    "dict.keys(list_dictionary)"
   ]
  },
  {
   "cell_type": "code",
   "execution_count": 2,
   "id": "ff954ba9",
   "metadata": {},
   "outputs": [
    {
     "data": {
      "text/plain": [
       "dict_values(['It is a Mechanical Terrain Transport vehicle', 'It is a Mechanical Naval Transport Vehicle', 'It is a Mechanical Air Transport Vehicle'])"
      ]
     },
     "execution_count": 2,
     "metadata": {},
     "output_type": "execute_result"
    }
   ],
   "source": [
    "list_dictionary = {\n",
    "    \"car\":\"It is a Mechanical Terrain Transport vehicle\",\n",
    "    \"ship\":\"It is a Mechanical Naval Transport Vehicle\",\n",
    "    \"aeroplane\": \"It is a Mechanical Air Transport Vehicle\"\n",
    "}\n",
    "dict.values(list_dictionary)"
   ]
  },
  {
   "cell_type": "markdown",
   "id": "ce81a839",
   "metadata": {},
   "source": [
    "### Dictionary Constructer"
   ]
  },
  {
   "cell_type": "code",
   "execution_count": 25,
   "id": "a725c917",
   "metadata": {},
   "outputs": [
    {
     "name": "stdout",
     "output_type": "stream",
     "text": [
      "{'name': 'Krish', 'number': 0, 'float': 0.1, 'boolean': True}\n"
     ]
    }
   ],
   "source": [
    "list_diffdatatypes = dict(name=\"Krish\", number=0, float=0.1, boolean=True)\n",
    "print(list_diffdatatypes)"
   ]
  },
  {
   "cell_type": "markdown",
   "id": "ede2e281",
   "metadata": {},
   "source": [
    "### Booleans\n",
    "- Boolean tells wheather a given value is true are false if it matches the conditions."
   ]
  },
  {
   "cell_type": "code",
   "execution_count": 3,
   "id": "51aad0d2",
   "metadata": {},
   "outputs": [
    {
     "name": "stdout",
     "output_type": "stream",
     "text": [
      "False\n"
     ]
    }
   ],
   "source": [
    "a = 5\n",
    "b = 6\n",
    "c = a > b\n",
    "print(c)"
   ]
  },
  {
   "cell_type": "code",
   "execution_count": 6,
   "id": "0232dc04",
   "metadata": {},
   "outputs": [
    {
     "name": "stdout",
     "output_type": "stream",
     "text": [
      "True\n"
     ]
    }
   ],
   "source": [
    "a,b = 6,5\n",
    "c = a > b\n",
    "print(c)"
   ]
  },
  {
   "cell_type": "markdown",
   "id": "b246937a",
   "metadata": {},
   "source": [
    "### Set\n",
    "- Set are used to store multiple values in a single variable.\n",
    "- Unordered, Immutable & Unindexed.\n",
    "- Duplicate values are not allowed.\n",
    "- Set can store all data types.\n",
    "- Set Set Union only print original values not duplicate values.\n",
    "- Set constructor is used to construct sets."
   ]
  },
  {
   "cell_type": "markdown",
   "id": "0876b0dc",
   "metadata": {},
   "source": [
    "#### Set_integer"
   ]
  },
  {
   "cell_type": "code",
   "execution_count": 7,
   "id": "40e2547a",
   "metadata": {},
   "outputs": [
    {
     "name": "stdout",
     "output_type": "stream",
     "text": [
      "{1, 2, 3, 4, 5, 6, 7, 8, 9, 10}\n"
     ]
    }
   ],
   "source": [
    "set_int = {1, 2, 3, 4, 5, 6, 7, 8, 9, 10}\n",
    "print(set_int)"
   ]
  },
  {
   "cell_type": "code",
   "execution_count": 8,
   "id": "2d7074d4",
   "metadata": {},
   "outputs": [
    {
     "name": "stdout",
     "output_type": "stream",
     "text": [
      "{'NTR', 'Mahesh Babu', 'Yash', 'Ravi Teja', 'Darshan', 'Ram Charan'}\n"
     ]
    }
   ],
   "source": [
    "set_string = {\"Mahesh Babu\", \"Ram Charan\", \"Yash\", \"Darshan\", \"NTR\", \"Ravi Teja\"}\n",
    "print(set_string)"
   ]
  },
  {
   "cell_type": "code",
   "execution_count": 9,
   "id": "6d258df5",
   "metadata": {},
   "outputs": [
    {
     "name": "stdout",
     "output_type": "stream",
     "text": [
      "{0.1, 0.4, 0.2, 0.3, 0.5, 0.6, 0.7, 0.8}\n"
     ]
    }
   ],
   "source": [
    "set_float = {0.1, 0.2, 0.3, 0.4, 0.5, 0.6, 0.7, 0.8}\n",
    "print(set_float)"
   ]
  },
  {
   "cell_type": "code",
   "execution_count": 10,
   "id": "d9a5e2bd",
   "metadata": {},
   "outputs": [
    {
     "name": "stdout",
     "output_type": "stream",
     "text": [
      "{'NTR', 'Mahesh Babu', 'Yash', 'Ravi Teja', 'Darshan', 'Ram Charan'}\n"
     ]
    }
   ],
   "source": [
    "set_No_duplicates = {\"Mahesh Babu\", \"Ram Charan\", \"Yash\", \"Darshan\", \"NTR\", \"Ravi Teja\", \"Yash\"}\n",
    "print(set_No_duplicates)"
   ]
  },
  {
   "cell_type": "markdown",
   "id": "d2afd370",
   "metadata": {},
   "source": [
    "#### Set_Constructor"
   ]
  },
  {
   "cell_type": "code",
   "execution_count": 14,
   "id": "98f74e41",
   "metadata": {},
   "outputs": [
    {
     "name": "stdout",
     "output_type": "stream",
     "text": [
      "{'Darshan', 'Ram Charan', 'NTR', 'Mahesh Babu', 'Yash', 'Ravi Teja'}\n"
     ]
    }
   ],
   "source": [
    "set_constructor = set((\"Mahesh Babu\", \"Ram Charan\", \"Yash\", \"Darshan\", \"NTR\", \"Ravi Teja\", \"Yash\"))\n",
    "print(set_constructor)"
   ]
  },
  {
   "cell_type": "markdown",
   "id": "cb7dd2f6",
   "metadata": {},
   "source": [
    "#### Supports all Data types"
   ]
  },
  {
   "cell_type": "code",
   "execution_count": 16,
   "id": "03a7830e",
   "metadata": {},
   "outputs": [
    {
     "name": "stdout",
     "output_type": "stream",
     "text": [
      "{0.1, 1, 'Honey Bee'}\n"
     ]
    }
   ],
   "source": [
    "set_alldatatypes = {1, 0.1, True, \"Honey Bee\"}\n",
    "print(set_alldatatypes)"
   ]
  },
  {
   "cell_type": "markdown",
   "id": "be7d0725",
   "metadata": {},
   "source": [
    "#### Set Unions\n",
    "- Union only prints original values but not duplicate values."
   ]
  },
  {
   "cell_type": "code",
   "execution_count": 19,
   "id": "a974bdb3",
   "metadata": {},
   "outputs": [
    {
     "name": "stdout",
     "output_type": "stream",
     "text": [
      "{1, 2, 3, 4, 5, 6, 7, 8}\n"
     ]
    }
   ],
   "source": [
    "set_num_1 = {1, 2, 3, 4, 5, 6, 7}\n",
    "set_num_2 = {1, 2, 3, 5, 5, 6, 8}\n",
    "set_union = set_num_1.union(set_num_2)\n",
    "print(set_union)"
   ]
  },
  {
   "cell_type": "markdown",
   "id": "007daaa6",
   "metadata": {},
   "source": [
    "#### Set intersection\n",
    "- it only prints out common items in both sets."
   ]
  },
  {
   "cell_type": "code",
   "execution_count": 20,
   "id": "83bbb1df",
   "metadata": {},
   "outputs": [
    {
     "name": "stdout",
     "output_type": "stream",
     "text": [
      "{1, 2, 3, 5, 6}\n"
     ]
    }
   ],
   "source": [
    "set_intersection = set_num_1.intersection(set_num_2)\n",
    "print(set_intersection)"
   ]
  },
  {
   "cell_type": "markdown",
   "id": "6b9c46b3",
   "metadata": {},
   "source": [
    "#### Set Difference\n",
    "- set difference compares two variable values and prints the value which is not common in both. "
   ]
  },
  {
   "cell_type": "code",
   "execution_count": 21,
   "id": "90d83f06",
   "metadata": {},
   "outputs": [
    {
     "name": "stdout",
     "output_type": "stream",
     "text": [
      "{4, 7}\n"
     ]
    }
   ],
   "source": [
    "set_diff = set_num_1.difference(set_num_2)\n",
    "print(set_diff)"
   ]
  },
  {
   "cell_type": "code",
   "execution_count": 22,
   "id": "15a81b82",
   "metadata": {},
   "outputs": [
    {
     "name": "stdout",
     "output_type": "stream",
     "text": [
      "{2, 4, 8, 10, 14, 16, 20}\n"
     ]
    }
   ],
   "source": [
    "set_num_diff1 = {2, 4, 6, 8, 10, 12, 14, 16, 18, 20}\n",
    "set_num_diff2 = {3, 6, 9, 12, 15, 18, 21, 24, 27, 30}\n",
    "set_difference = set_num_diff1.difference(set_num_diff2)\n",
    "print(set_difference)"
   ]
  },
  {
   "cell_type": "markdown",
   "id": "4d0f62b1",
   "metadata": {},
   "source": [
    "#### Set Symmetric Difference\n",
    "- Just like set union print all unique values in both sets.\n",
    "- same values are printed if it is present in both."
   ]
  },
  {
   "cell_type": "code",
   "execution_count": 1,
   "id": "afc20a7d",
   "metadata": {},
   "outputs": [
    {
     "name": "stdout",
     "output_type": "stream",
     "text": [
      "{2, 3, 4, 8, 9, 10, 14, 15, 16, 20, 21, 24, 27, 30}\n"
     ]
    }
   ],
   "source": [
    "set_num_sydiff1 = {2, 4, 6, 8, 10, 12, 14, 16, 18, 20}\n",
    "set_num_sydiff2 = {3, 6, 9, 12, 15, 18, 21, 24, 27, 30}\n",
    "set_sydifference = set_num_sydiff1.symmetric_difference(set_num_sydiff2)\n",
    "print(set_sydifference)"
   ]
  },
  {
   "cell_type": "markdown",
   "id": "1b823636",
   "metadata": {},
   "source": [
    "### String"
   ]
  },
  {
   "cell_type": "code",
   "execution_count": 15,
   "id": "7731b1ec",
   "metadata": {},
   "outputs": [
    {
     "name": "stdout",
     "output_type": "stream",
     "text": [
      "Hello World\n",
      "How are you?\n",
      "I am fine, What about you?\n"
     ]
    }
   ],
   "source": [
    "print(\"Hello World\")\n",
    "print(\"How are you?\")\n",
    "print(\"I am fine, What about you?\")"
   ]
  },
  {
   "cell_type": "markdown",
   "id": "cb6ac0b4",
   "metadata": {},
   "source": [
    "### String Concatenation"
   ]
  },
  {
   "cell_type": "code",
   "execution_count": 17,
   "id": "643c5fb9",
   "metadata": {
    "scrolled": true
   },
   "outputs": [
    {
     "name": "stdout",
     "output_type": "stream",
     "text": [
      "Hello World\n",
      "How are you\n",
      "I am fine \n"
     ]
    }
   ],
   "source": [
    "print(\"Hello \" + \"World\")\n",
    "print(\"How \" + \"are \" + \"you\")\n",
    "print(\"I \" + \"am \" + \"fine \")"
   ]
  },
  {
   "cell_type": "markdown",
   "id": "99215d7b",
   "metadata": {},
   "source": [
    "### Tuples\n",
    "- Tuples are immutable.\n",
    "- Tuples can store any datatypes(int, float, string, boolean).\n",
    "- single tuple can be created (\"tranformers\",) but we have to put , at the end.\n",
    "- Tuples can be created by using parenthesis.\n",
    "- Tuples can have duplicate elements."
   ]
  },
  {
   "cell_type": "code",
   "execution_count": 25,
   "id": "7dc7bebe",
   "metadata": {},
   "outputs": [
    {
     "name": "stdout",
     "output_type": "stream",
     "text": [
      "('Transformers', 'Ironman', 'Avengers', 'Fast X', 'Hulk')\n"
     ]
    }
   ],
   "source": [
    "list_tuple_movies = (\"Transformers\", \"Ironman\", \"Avengers\", \"Fast X\", \"Hulk\")\n",
    "print(list_tuple_movies)"
   ]
  },
  {
   "cell_type": "code",
   "execution_count": 26,
   "id": "938540ad",
   "metadata": {},
   "outputs": [
    {
     "name": "stdout",
     "output_type": "stream",
     "text": [
      "('Transformers', 'Ironman', 'Avengers', 'Fast X', 'Hulk', 'Transformers')\n"
     ]
    }
   ],
   "source": [
    "list_tuple_movies = (\"Transformers\", \"Ironman\", \"Avengers\", \"Fast X\", \"Hulk\", \"Transformers\")\n",
    "print(list_tuple_movies)"
   ]
  },
  {
   "cell_type": "code",
   "execution_count": 32,
   "id": "5413325d",
   "metadata": {},
   "outputs": [
    {
     "name": "stdout",
     "output_type": "stream",
     "text": [
      "('Transformers',)\n"
     ]
    }
   ],
   "source": [
    "list_tuple_movies = (\"Transformers\",)\n",
    "print(list_tuple_movies)"
   ]
  },
  {
   "cell_type": "code",
   "execution_count": 30,
   "id": "f46a09c9",
   "metadata": {},
   "outputs": [
    {
     "name": "stdout",
     "output_type": "stream",
     "text": [
      "('Transformers', 'Avengers')\n"
     ]
    }
   ],
   "source": [
    "list_tuple_movies = tuple((\"Transformers\", \"Avengers\"))\n",
    "print(list_tuple_movies)"
   ]
  },
  {
   "cell_type": "code",
   "execution_count": 37,
   "id": "e7e78f85",
   "metadata": {},
   "outputs": [
    {
     "name": "stdout",
     "output_type": "stream",
     "text": [
      "(1, 0.1, 'Ram', True)\n"
     ]
    }
   ],
   "source": [
    "list_tuple_alldatatypes = (1, 0.1, \"Ram\", True)\n",
    "print(list_tuple_alldatatypes)"
   ]
  },
  {
   "cell_type": "markdown",
   "id": "b9ac1e9a",
   "metadata": {},
   "source": [
    "### Lists\n",
    "- A list can contains all datatypes(int, string, float, boolean).\n",
    "- - lists are mutable we can change, add, insert elements using .append, .extend, .insert."
   ]
  },
  {
   "cell_type": "code",
   "execution_count": 34,
   "id": "6eaf8db2",
   "metadata": {},
   "outputs": [
    {
     "name": "stdout",
     "output_type": "stream",
     "text": [
      "[1, 1.0, 'ram', True]\n"
     ]
    }
   ],
   "source": [
    "list_items = [1, 1.0, \"ram\", True]\n",
    "print(list_items)"
   ]
  },
  {
   "cell_type": "markdown",
   "id": "5abef138",
   "metadata": {},
   "source": [
    "### Mutable lists\n",
    "- lists are mutable we can change, add, insert elements using .append, .extend, .insert."
   ]
  },
  {
   "cell_type": "markdown",
   "id": "a6acd75d",
   "metadata": {},
   "source": [
    "#### Append function in lists\n",
    "- Append function adds any one element at the end of the list."
   ]
  },
  {
   "cell_type": "code",
   "execution_count": 35,
   "id": "49f306d1",
   "metadata": {},
   "outputs": [
    {
     "name": "stdout",
     "output_type": "stream",
     "text": [
      "['BMW', 8, 'Ferrari', True, 'Bugati']\n"
     ]
    }
   ],
   "source": [
    "list_elements = [\"BMW\", 8, \"Ferrari\", True]\n",
    "list_elements.append(\"Bugati\")\n",
    "print(list_elements)"
   ]
  },
  {
   "cell_type": "markdown",
   "id": "8849a408",
   "metadata": {},
   "source": [
    "### Adding two values with append function using tuples\n",
    "- If we want to add two or more values at the end of the list we need to use tuples function but it print along with parenthises."
   ]
  },
  {
   "cell_type": "code",
   "execution_count": 36,
   "id": "7e8ec2b8",
   "metadata": {},
   "outputs": [
    {
     "name": "stdout",
     "output_type": "stream",
     "text": [
      "['Ferrari', 9, 'Bugati', ('Alienware', 12)]\n"
     ]
    }
   ],
   "source": [
    "list_elements = [\"Ferrari\", 9, \"Bugati\"]\n",
    "list_elements.append((\"Alienware\", 12))\n",
    "print(list_elements)"
   ]
  },
  {
   "cell_type": "markdown",
   "id": "7d34780e",
   "metadata": {},
   "source": [
    "### Extend Function in list\n",
    "- Adds any number of elements at the end of the list but it ignores parentheses."
   ]
  },
  {
   "cell_type": "code",
   "execution_count": 37,
   "id": "7948f53e",
   "metadata": {},
   "outputs": [
    {
     "name": "stdout",
     "output_type": "stream",
     "text": [
      "['Ferrari', 0.9, 'Bugati', 'Alienware', 12]\n"
     ]
    }
   ],
   "source": [
    "list_elements = [\"Ferrari\", 0.9, \"Bugati\"]\n",
    "list_elements.extend((\"Alienware\", 12))\n",
    "print(list_elements)"
   ]
  },
  {
   "cell_type": "markdown",
   "id": "20a08874",
   "metadata": {},
   "source": [
    "### Insert Fucntion in list\n",
    "- insert function (insert uses index places to insert and it only takes \n",
    "  one element at once)\n",
    "- we can use tuple parentheses to insert two elements but it prints along\n",
    "  with parentheses.)"
   ]
  },
  {
   "cell_type": "code",
   "execution_count": 40,
   "id": "64fe02aa",
   "metadata": {},
   "outputs": [
    {
     "name": "stdout",
     "output_type": "stream",
     "text": [
      "['Ironman', 10, 'Hulk', 'Captain America', 12]\n"
     ]
    }
   ],
   "source": [
    "list_elements = [\"Ironman\", 10, \"Captain America\", 12]\n",
    "list_elements.insert(2, \"Hulk\")\n",
    "print(list_elements)"
   ]
  },
  {
   "cell_type": "code",
   "execution_count": 39,
   "id": "67802fb4",
   "metadata": {},
   "outputs": [
    {
     "name": "stdout",
     "output_type": "stream",
     "text": [
      "['Ironman', 10, ('War Machine', 'Hulk'), 'Captain America', 12]\n"
     ]
    }
   ],
   "source": [
    "list_elements = [\"Ironman\", 10, \"Captain America\", 12]\n",
    "list_elements.insert(2, (\"War Machine\", \"Hulk\"))\n",
    "print(list_elements)"
   ]
  },
  {
   "cell_type": "markdown",
   "id": "e10f9edf",
   "metadata": {},
   "source": [
    "### Deleted Function\n",
    "- Delete function deletes an element in a list if we spcify index number, if not it will delete entire list."
   ]
  },
  {
   "cell_type": "code",
   "execution_count": 41,
   "id": "33704728",
   "metadata": {},
   "outputs": [
    {
     "name": "stdout",
     "output_type": "stream",
     "text": [
      "['Superman', 'Batman', 'Harley Queen', 'Flash']\n"
     ]
    }
   ],
   "source": [
    "list_elements = [\"Superman\", \"Batman\", \"Harley Queen\", \n",
    "                 \"Flash\", \"Spiderman\"]\n",
    "del list_elements[4]\n",
    "print(list_elements)"
   ]
  },
  {
   "cell_type": "code",
   "execution_count": 47,
   "id": "225f2d78",
   "metadata": {},
   "outputs": [
    {
     "name": "stdout",
     "output_type": "stream",
     "text": [
      "['Superman', 'Batman', 'Harley Queen', 'Flash', 'Spiderman', 'Venom']\n"
     ]
    }
   ],
   "source": [
    "list_elements = [\"Superman\", \"Batman\", \"Harley Queen\", \n",
    "                 \"Flash\", \"Spiderman\"]\n",
    "del list_elements\n",
    "\n",
    "list_elements = [\"Superman\", \"Batman\", \"Harley Queen\", \n",
    "                 \"Flash\", \"Spiderman\", \"Venom\"]\n",
    "print(list_elements)"
   ]
  },
  {
   "cell_type": "markdown",
   "id": "0c665bb3",
   "metadata": {},
   "source": [
    "### Pop function\n",
    "- pop function deletes an element in list using index number.\n",
    "- pop function deletes an element at the end of the list if we do not specify index number."
   ]
  },
  {
   "cell_type": "code",
   "execution_count": 48,
   "id": "62aaff6b",
   "metadata": {},
   "outputs": [
    {
     "name": "stdout",
     "output_type": "stream",
     "text": [
      "['Optimus Prime', 'Bumble Bee', 'Bulk Head', 'Ratchet', 'Smokescream']\n"
     ]
    }
   ],
   "source": [
    "list_elements = [\"Optimus Prime\", \"Bumble Bee\", \"Bulk Head\", \"RC\", \n",
    "                 \"Ratchet\", \"Smokescream\"]\n",
    "list_elements.pop(3)\n",
    "print(list_elements)"
   ]
  },
  {
   "cell_type": "code",
   "execution_count": 49,
   "id": "57d03c1a",
   "metadata": {},
   "outputs": [
    {
     "name": "stdout",
     "output_type": "stream",
     "text": [
      "['Optimus Prime', 'Bumble Bee', 'Bulk Head', 'RC', 'Ratchet']\n"
     ]
    }
   ],
   "source": [
    "list_elements = [\"Optimus Prime\", \"Bumble Bee\", \"Bulk Head\", \"RC\", \n",
    "                 \"Ratchet\", \"Smokescream\"]\n",
    "list_elements.pop()\n",
    "print(list_elements)"
   ]
  },
  {
   "cell_type": "markdown",
   "id": "580607a3",
   "metadata": {},
   "source": [
    "### Remove Function\n",
    "- Remove function removes an element which is specified in parentesis.\n",
    "- Remove function removes an element which has duplicate names like in below Bumble Bee. "
   ]
  },
  {
   "cell_type": "code",
   "execution_count": 51,
   "id": "7658af66",
   "metadata": {},
   "outputs": [
    {
     "name": "stdout",
     "output_type": "stream",
     "text": [
      "['Optimus Prime', 'Bumble Bee', 'Bulk Head', 'RC', 'Ratchet']\n"
     ]
    }
   ],
   "source": [
    "list_elements = [\"Optimus Prime\", \"Bumble Bee\", \"Bulk Head\", \"RC\", \n",
    "                 \"Ratchet\", \"Smokescream\"]\n",
    "list_elements.remove(\"Smokescream\")\n",
    "print(list_elements)"
   ]
  },
  {
   "cell_type": "code",
   "execution_count": 52,
   "id": "265c7849",
   "metadata": {},
   "outputs": [
    {
     "name": "stdout",
     "output_type": "stream",
     "text": [
      "['Optimus Prime', 'Bumble Bee', 'Bulk Head', 'RC', 'Ratchet', 'Smokescream']\n"
     ]
    }
   ],
   "source": [
    "list_elements = [\"Bumble Bee\", \"Optimus Prime\", \"Bumble Bee\", \n",
    "                   \"Bulk Head\", \"RC\", \"Ratchet\", \"Smokescream\"]\n",
    "list_elements.remove(\"Bumble Bee\")\n",
    "print(list_elements)"
   ]
  },
  {
   "cell_type": "markdown",
   "id": "bb2433d3",
   "metadata": {},
   "source": [
    "### Clear Function\n",
    "- Clear function removes all elements in a list."
   ]
  },
  {
   "cell_type": "code",
   "execution_count": 53,
   "id": "87716bc6",
   "metadata": {},
   "outputs": [
    {
     "name": "stdout",
     "output_type": "stream",
     "text": [
      "[]\n"
     ]
    }
   ],
   "source": [
    "list_elements = [\"Bumble Bee\", \"Optimus Prime\", \"Bumble Bee\", \n",
    "                   \"Bulk Head\", \"RC\", \"Ratchet\", \"Smokescream\"]\n",
    "list_elements.clear()\n",
    "print(list_elements)"
   ]
  },
  {
   "cell_type": "markdown",
   "id": "2c9c0d12",
   "metadata": {},
   "source": [
    "## Operations in python\n",
    "### Arithmetic Operators\n",
    "These are basic operators used for some mathematical operations such as \n",
    "- Addition (+)\n",
    "- Subtraction (-)\n",
    "- Multiplication (*)\n",
    "- Division (/)\n",
    "- Modolo (%)\n",
    "- Exponential (**)\n",
    "- Floor"
   ]
  },
  {
   "cell_type": "markdown",
   "id": "979c51f8",
   "metadata": {},
   "source": [
    "#### Create two operands and perform some arithmetic operations  listed below:"
   ]
  },
  {
   "cell_type": "code",
   "execution_count": 56,
   "id": "4aad5ed1",
   "metadata": {},
   "outputs": [
    {
     "name": "stdout",
     "output_type": "stream",
     "text": [
      "This is an additon operation 15\n",
      "This is an substraction operation 5\n",
      "This is an multiplication operation 50\n",
      "This is an division operation 2.0\n",
      "This is an modolo operation 0\n",
      "This is an exponential operation 100000\n"
     ]
    }
   ],
   "source": [
    "a = 10\n",
    "b = 5\n",
    "\n",
    "print(f'This is an additon operation {a+b}')\n",
    "print(f'This is an substraction operation {a-b}')\n",
    "print(f'This is an multiplication operation {a*b}')\n",
    "print(f'This is an division operation {a/b}')\n",
    "print(f'This is an modolo operation {a%b}')\n",
    "print(f'This is an exponential operation {a**b}')"
   ]
  },
  {
   "cell_type": "markdown",
   "id": "258e1fae",
   "metadata": {},
   "source": [
    "### Comparison Operators\n",
    "These are basic operators used for some comparative operations such as \n",
    "- Equals (==)\n",
    "- Not Equals (!=)\n",
    "- Greater than (>)\n",
    "- lesser than  (<)\n",
    "- Greater than or equal to (>=)\n",
    "- lesser than or equal to (<=)"
   ]
  },
  {
   "cell_type": "code",
   "execution_count": 57,
   "id": "61652652",
   "metadata": {},
   "outputs": [
    {
     "name": "stdout",
     "output_type": "stream",
     "text": [
      "This is an compartive analysis of equal operators False\n",
      "This is an compartive analysis of not equal operators True\n",
      "This is an compartive analysis of greater than operators False\n",
      "This is an compartive analysis of lesser than operators True\n",
      "This is an compartive analysis of Greater than or equal to operators False\n",
      "This is an compartive analysis of lesser than or equal to operators True\n"
     ]
    }
   ],
   "source": [
    "a = 5\n",
    "b = 10\n",
    "\n",
    "print(f'This is an compartive analysis of equal operators {a==b}')\n",
    "print(f'This is an compartive analysis of not equal operators {a!=b}')\n",
    "print(f'This is an compartive analysis of greater than operators {a>b}')\n",
    "print(f'This is an compartive analysis of lesser than operators {a<b}')\n",
    "print(f'This is an compartive analysis of Greater than or equal to operators {a>=b}')\n",
    "print(f'This is an compartive analysis of lesser than or equal to operators {a<=b}')"
   ]
  },
  {
   "cell_type": "markdown",
   "id": "0e1b07b0",
   "metadata": {},
   "source": [
    "### Logical Operator\n",
    "These are the logical functional operation \n",
    "- AND - Compares two logic both have to be true\n",
    "- OR - Compares two logic either has to be true\n",
    "- NOT - Compares a logic and returns the either of logic"
   ]
  },
  {
   "cell_type": "code",
   "execution_count": 60,
   "id": "ab55af7f",
   "metadata": {},
   "outputs": [
    {
     "name": "stdout",
     "output_type": "stream",
     "text": [
      "False\n",
      "True\n"
     ]
    }
   ],
   "source": [
    "a = True\n",
    "b = False\n",
    "\n",
    "print(a and b)\n",
    "print(a or b)"
   ]
  },
  {
   "cell_type": "markdown",
   "id": "3f855eab",
   "metadata": {},
   "source": [
    "Not reverses True to False & False to True"
   ]
  },
  {
   "cell_type": "code",
   "execution_count": 61,
   "id": "0e1beb18",
   "metadata": {},
   "outputs": [
    {
     "data": {
      "text/plain": [
       "True"
      ]
     },
     "execution_count": 61,
     "metadata": {},
     "output_type": "execute_result"
    }
   ],
   "source": [
    "a = 10\n",
    "b = 15\n",
    "\n",
    "not(a>b)"
   ]
  },
  {
   "cell_type": "markdown",
   "id": "fbb98365",
   "metadata": {},
   "source": [
    "### Bitwise Operator\n",
    "These are the Bitwise functional operation\n",
    "- AND - &\n",
    "- OR - |\n",
    "- Not - ~\n",
    "- XOR - ^\n",
    "- Right Shift >>\n",
    "- Left Shift <<"
   ]
  },
  {
   "cell_type": "markdown",
   "id": "32c6da56",
   "metadata": {},
   "source": [
    "#### AND & Symbol"
   ]
  },
  {
   "cell_type": "code",
   "execution_count": 1,
   "id": "1b83b52f",
   "metadata": {},
   "outputs": [
    {
     "data": {
      "text/plain": [
       "32"
      ]
     },
     "execution_count": 1,
     "metadata": {},
     "output_type": "execute_result"
    }
   ],
   "source": [
    "52 & 42"
   ]
  },
  {
   "attachments": {
    "image.png": {
     "image/png": "[encoded data removed]"
    }
   },
   "cell_type": "markdown",
   "id": "e48633cd",
   "metadata": {},
   "source": [
    "![image.png](attachment:image.png)"
   ]
  },
  {
   "cell_type": "markdown",
   "id": "0226db49",
   "metadata": {},
   "source": [
    "#### OR | Pipe Symbol"
   ]
  },
  {
   "cell_type": "code",
   "execution_count": 4,
   "id": "6de46deb",
   "metadata": {},
   "outputs": [
    {
     "data": {
      "text/plain": [
       "31"
      ]
     },
     "execution_count": 4,
     "metadata": {},
     "output_type": "execute_result"
    }
   ],
   "source": [
    "29|15"
   ]
  },
  {
   "attachments": {
    "image.png": {
     "image/png": "[encoded data removed]"
    }
   },
   "cell_type": "markdown",
   "id": "3003f1aa",
   "metadata": {},
   "source": [
    "![image.png](attachment:image.png)"
   ]
  },
  {
   "cell_type": "markdown",
   "id": "5b913ced",
   "metadata": {},
   "source": [
    "#### NOT ~ (Compliment/tilde) symbol\n"
   ]
  },
  {
   "cell_type": "code",
   "execution_count": 5,
   "id": "e0641847",
   "metadata": {},
   "outputs": [
    {
     "data": {
      "text/plain": [
       "-71"
      ]
     },
     "execution_count": 5,
     "metadata": {},
     "output_type": "execute_result"
    }
   ],
   "source": [
    "~ 70"
   ]
  },
  {
   "attachments": {
    "image.png": {
     "image/png": "[encoded data removed]"
    }
   },
   "cell_type": "markdown",
   "id": "fbdb9dc4",
   "metadata": {},
   "source": [
    "![image.png](attachment:image.png)"
   ]
  },
  {
   "cell_type": "code",
   "execution_count": 6,
   "id": "46baabde",
   "metadata": {},
   "outputs": [
    {
     "data": {
      "text/plain": [
       "-30"
      ]
     },
     "execution_count": 6,
     "metadata": {},
     "output_type": "execute_result"
    }
   ],
   "source": [
    "~ 29"
   ]
  },
  {
   "attachments": {
    "image.png": {
     "image/png": "[encoded data removed]"
    }
   },
   "cell_type": "markdown",
   "id": "9cfe866f",
   "metadata": {},
   "source": [
    "![image.png](attachment:image.png)"
   ]
  },
  {
   "cell_type": "markdown",
   "id": "c5bc6fb5",
   "metadata": {},
   "source": [
    "#### XOR ^ Symbol"
   ]
  },
  {
   "cell_type": "code",
   "execution_count": 7,
   "id": "3d7eb306",
   "metadata": {},
   "outputs": [
    {
     "data": {
      "text/plain": [
       "1"
      ]
     },
     "execution_count": 7,
     "metadata": {},
     "output_type": "execute_result"
    }
   ],
   "source": [
    "14 ^ 15"
   ]
  },
  {
   "attachments": {
    "image.png": {
     "image/png": "[encoded data removed]"
    }
   },
   "cell_type": "markdown",
   "id": "fc8846a8",
   "metadata": {},
   "source": [
    "![image.png](attachment:image.png)"
   ]
  },
  {
   "cell_type": "markdown",
   "id": "12ee578f",
   "metadata": {},
   "source": [
    "#### Left Shift <<"
   ]
  },
  {
   "cell_type": "code",
   "execution_count": 8,
   "id": "6d53c317",
   "metadata": {},
   "outputs": [
    {
     "data": {
      "text/plain": [
       "60"
      ]
     },
     "execution_count": 8,
     "metadata": {},
     "output_type": "execute_result"
    }
   ],
   "source": [
    "15 << 2"
   ]
  },
  {
   "attachments": {
    "image.png": {
     "image/png": "[encoded data removed]"
    }
   },
   "cell_type": "markdown",
   "id": "4c69bcc0",
   "metadata": {},
   "source": [
    "![image.png](attachment:image.png)"
   ]
  },
  {
   "cell_type": "markdown",
   "id": "ad348c89",
   "metadata": {},
   "source": [
    "#### Right Shift >>"
   ]
  },
  {
   "cell_type": "code",
   "execution_count": 9,
   "id": "a3c7828f",
   "metadata": {},
   "outputs": [
    {
     "data": {
      "text/plain": [
       "3"
      ]
     },
     "execution_count": 9,
     "metadata": {},
     "output_type": "execute_result"
    }
   ],
   "source": [
    "25 >> 3"
   ]
  },
  {
   "attachments": {
    "image.png": {
     "image/png": "[encoded data removed]"
    }
   },
   "cell_type": "markdown",
   "id": "6ecad8ca",
   "metadata": {},
   "source": [
    "![image.png](attachment:image.png)"
   ]
  },
  {
   "cell_type": "markdown",
   "id": "e44224ee",
   "metadata": {},
   "source": [
    "### Assignment Operator\n",
    "- Equals (=)\n",
    "- Add AND (+=)\n",
    "- Sub AND (-=)\n",
    "- Mulitply AND (*=)\n",
    "- divide AND (/=)\n",
    "- modolo AND (%=)\n",
    "- floor AND (//=)\n",
    "- exponent AND (**=)\n",
    "- Bitwise & AND (&=)\n",
    "- Bitwise | AND (|=)\n",
    "- Bitwise ~ AND (~=) this is not an inbuilt operator\n",
    "- Bitwise ^ AND (^=)\n",
    "- Bitwise << AND (<<=)\n",
    "- Bitwise >> AND (>>=)"
   ]
  },
  {
   "cell_type": "markdown",
   "id": "b0fc5f1c",
   "metadata": {},
   "source": [
    "#### Equals (=)"
   ]
  },
  {
   "cell_type": "code",
   "execution_count": 2,
   "id": "7826ff1c",
   "metadata": {},
   "outputs": [
    {
     "name": "stdout",
     "output_type": "stream",
     "text": [
      "11\n"
     ]
    }
   ],
   "source": [
    "a = 5\n",
    "b = 6\n",
    "c = a + b\n",
    "print(c)"
   ]
  },
  {
   "cell_type": "markdown",
   "id": "65ada0b1",
   "metadata": {},
   "source": [
    "#### Assignment Operator (+=)"
   ]
  },
  {
   "cell_type": "code",
   "execution_count": 3,
   "id": "6889a181",
   "metadata": {},
   "outputs": [
    {
     "name": "stdout",
     "output_type": "stream",
     "text": [
      "7\n"
     ]
    }
   ],
   "source": [
    "a = 5\n",
    "a += 2\n",
    "print(a)"
   ]
  },
  {
   "cell_type": "markdown",
   "id": "bd8d5e8e",
   "metadata": {},
   "source": [
    "#### Assignment Operator (-=)"
   ]
  },
  {
   "cell_type": "code",
   "execution_count": 4,
   "id": "5a5a1637",
   "metadata": {},
   "outputs": [
    {
     "name": "stdout",
     "output_type": "stream",
     "text": [
      "4\n"
     ]
    }
   ],
   "source": [
    "b = 8\n",
    "b -= 4\n",
    "print(b)"
   ]
  },
  {
   "cell_type": "markdown",
   "id": "e2e24ee5",
   "metadata": {},
   "source": [
    "#### Assignment Operator (*=)"
   ]
  },
  {
   "cell_type": "code",
   "execution_count": 5,
   "id": "b93b86c8",
   "metadata": {},
   "outputs": [
    {
     "name": "stdout",
     "output_type": "stream",
     "text": [
      "50\n"
     ]
    }
   ],
   "source": [
    "c = 10\n",
    "c *= 5\n",
    "print(c)"
   ]
  },
  {
   "cell_type": "markdown",
   "id": "f99677ca",
   "metadata": {},
   "source": [
    "#### Assignment Operator (/=)"
   ]
  },
  {
   "cell_type": "code",
   "execution_count": 6,
   "id": "1fa1cf70",
   "metadata": {},
   "outputs": [
    {
     "name": "stdout",
     "output_type": "stream",
     "text": [
      "5.0\n"
     ]
    }
   ],
   "source": [
    "d = 10\n",
    "d /= 2\n",
    "print(d)"
   ]
  },
  {
   "cell_type": "markdown",
   "id": "245c75d3",
   "metadata": {},
   "source": [
    "#### Assignment Operator (%=)"
   ]
  },
  {
   "cell_type": "code",
   "execution_count": 7,
   "id": "87e7b36c",
   "metadata": {},
   "outputs": [
    {
     "name": "stdout",
     "output_type": "stream",
     "text": [
      "2\n"
     ]
    }
   ],
   "source": [
    "e = 50\n",
    "e %= 6\n",
    "print(e)"
   ]
  },
  {
   "cell_type": "markdown",
   "id": "353d2378",
   "metadata": {},
   "source": [
    "#### Assignment Operator (//=)"
   ]
  },
  {
   "cell_type": "code",
   "execution_count": 8,
   "id": "82867ae4",
   "metadata": {},
   "outputs": [
    {
     "name": "stdout",
     "output_type": "stream",
     "text": [
      "1\n"
     ]
    }
   ],
   "source": [
    "f = 8\n",
    "f //= 5\n",
    "print(f)"
   ]
  },
  {
   "cell_type": "markdown",
   "id": "413c8f7b",
   "metadata": {},
   "source": [
    "#### Assignment Operator (**=)"
   ]
  },
  {
   "cell_type": "code",
   "execution_count": 9,
   "id": "0ce6fbc0",
   "metadata": {},
   "outputs": [
    {
     "name": "stdout",
     "output_type": "stream",
     "text": [
      "29192926025390625\n"
     ]
    }
   ],
   "source": [
    "g = 15\n",
    "g **= 14\n",
    "print(g)"
   ]
  },
  {
   "cell_type": "markdown",
   "id": "2a8206ad",
   "metadata": {},
   "source": [
    "#### Assignment Operator (&=)"
   ]
  },
  {
   "cell_type": "code",
   "execution_count": 10,
   "id": "5443e82d",
   "metadata": {},
   "outputs": [
    {
     "name": "stdout",
     "output_type": "stream",
     "text": [
      "4\n"
     ]
    }
   ],
   "source": [
    "h = 20\n",
    "h &= 5\n",
    "print(h)"
   ]
  },
  {
   "cell_type": "markdown",
   "id": "c519c104",
   "metadata": {},
   "source": [
    "#### Assignment Operator (|=)"
   ]
  },
  {
   "cell_type": "code",
   "execution_count": 11,
   "id": "42015be2",
   "metadata": {},
   "outputs": [
    {
     "name": "stdout",
     "output_type": "stream",
     "text": [
      "31\n"
     ]
    }
   ],
   "source": [
    "i = 25\n",
    "i |= 15\n",
    "print(i)"
   ]
  },
  {
   "cell_type": "markdown",
   "id": "0b3041d5",
   "metadata": {},
   "source": [
    "#### Assignment Operator (^=)"
   ]
  },
  {
   "cell_type": "code",
   "execution_count": 12,
   "id": "dff6e933",
   "metadata": {},
   "outputs": [
    {
     "name": "stdout",
     "output_type": "stream",
     "text": [
      "17\n"
     ]
    }
   ],
   "source": [
    "j = 30\n",
    "j ^= 15\n",
    "print(j)"
   ]
  },
  {
   "cell_type": "markdown",
   "id": "97e9ec90",
   "metadata": {},
   "source": [
    "#### Assignment Operator (<<=)"
   ]
  },
  {
   "cell_type": "code",
   "execution_count": 14,
   "id": "61f0265d",
   "metadata": {},
   "outputs": [
    {
     "name": "stdout",
     "output_type": "stream",
     "text": [
      "503316480\n"
     ]
    }
   ],
   "source": [
    "k = 15\n",
    "k <<= 25\n",
    "print(k)"
   ]
  },
  {
   "cell_type": "markdown",
   "id": "8b732a0f",
   "metadata": {},
   "source": [
    "#### Assignment Operator (>>=)"
   ]
  },
  {
   "cell_type": "code",
   "execution_count": 15,
   "id": "00512167",
   "metadata": {},
   "outputs": [
    {
     "name": "stdout",
     "output_type": "stream",
     "text": [
      "3\n"
     ]
    }
   ],
   "source": [
    "l = 25\n",
    "l >>= 3\n",
    "print(l)"
   ]
  },
  {
   "cell_type": "markdown",
   "id": "09c28688",
   "metadata": {},
   "source": [
    "### Identity Operator\n",
    "- is\n",
    "- is not"
   ]
  },
  {
   "cell_type": "markdown",
   "id": "7dfe64e1",
   "metadata": {},
   "source": [
    "#### is operator"
   ]
  },
  {
   "cell_type": "code",
   "execution_count": 16,
   "id": "af317d80",
   "metadata": {},
   "outputs": [
    {
     "data": {
      "text/plain": [
       "False"
      ]
     },
     "execution_count": 16,
     "metadata": {},
     "output_type": "execute_result"
    }
   ],
   "source": [
    "a = 5\n",
    "b = 20\n",
    "a is b"
   ]
  },
  {
   "cell_type": "code",
   "execution_count": 17,
   "id": "2afbd3ee",
   "metadata": {},
   "outputs": [
    {
     "data": {
      "text/plain": [
       "True"
      ]
     },
     "execution_count": 17,
     "metadata": {},
     "output_type": "execute_result"
    }
   ],
   "source": [
    "a = 5\n",
    "b = 20\n",
    "a is not b"
   ]
  },
  {
   "cell_type": "markdown",
   "id": "d2d2a99d",
   "metadata": {},
   "source": [
    "### Program Flow\n",
    "\n",
    "1. Sequential Flow\n",
    "2. Decision Flow\n",
    "3. Repetitive Flow"
   ]
  },
  {
   "cell_type": "markdown",
   "id": "2c2c19b9",
   "metadata": {},
   "source": [
    "#### Sequential Flow"
   ]
  },
  {
   "cell_type": "code",
   "execution_count": 18,
   "id": "f2876363",
   "metadata": {},
   "outputs": [
    {
     "name": "stdout",
     "output_type": "stream",
     "text": [
      "12\n"
     ]
    }
   ],
   "source": [
    "a = 10\n",
    "b = 2\n",
    "\n",
    "print(a + b)"
   ]
  },
  {
   "cell_type": "markdown",
   "id": "5501a3c8",
   "metadata": {},
   "source": [
    "#### Decision Flow"
   ]
  },
  {
   "cell_type": "code",
   "execution_count": 19,
   "id": "ea39d699",
   "metadata": {},
   "outputs": [
    {
     "name": "stdout",
     "output_type": "stream",
     "text": [
      "The number is a even number.\n"
     ]
    }
   ],
   "source": [
    "a = 10\n",
    "b = 20\n",
    "\n",
    "if a and b % 2 == 0:\n",
    "    print(\"The number is a even number.\")\n",
    "elif a and b % 2 != 0:\n",
    "    print(\"The number is a odd number.\")\n",
    "else:\n",
    "    print(\"Either even are odd number is present.\")"
   ]
  },
  {
   "cell_type": "code",
   "execution_count": 20,
   "id": "a3652722",
   "metadata": {},
   "outputs": [
    {
     "name": "stdout",
     "output_type": "stream",
     "text": [
      "The number is odd.\n"
     ]
    }
   ],
   "source": [
    "i_p = 7\n",
    "\n",
    "if i_p % 2 == 0: # This part it is called has header.\n",
    "    print(\"The number is even.\") # This part is called as suite.\n",
    "else:\n",
    "    print(\"The number is odd.\")"
   ]
  },
  {
   "cell_type": "code",
   "execution_count": 22,
   "id": "e2d7666b",
   "metadata": {},
   "outputs": [
    {
     "name": "stdout",
     "output_type": "stream",
     "text": [
      "Either of them are odd or even.\n"
     ]
    }
   ],
   "source": [
    "i_p_1 = 15\n",
    "i_p_2 = 20\n",
    "\n",
    "if i_p_1 % 2 == 0 and i_p_2 % 2 == 0:\n",
    "    print(\"The given numbers is even.\")\n",
    "elif i_p_1 % 2 != 0 and i_p_2 % 2 != 0:\n",
    "    print(\"The given numbers is odd.\")\n",
    "elif i_p_1 % 2 != 0 and i_p_2 == 0:\n",
    "    print(\"Even Number\")\n",
    "else:\n",
    "    print(\"Either of them are odd or even.\")"
   ]
  },
  {
   "cell_type": "markdown",
   "id": "933baf6a",
   "metadata": {},
   "source": [
    "#### Repetitive Flow"
   ]
  },
  {
   "cell_type": "code",
   "execution_count": 24,
   "id": "88fd943a",
   "metadata": {},
   "outputs": [
    {
     "name": "stdout",
     "output_type": "stream",
     "text": [
      "40\n",
      "80\n",
      "120\n",
      "160\n",
      "200\n"
     ]
    }
   ],
   "source": [
    "even_list = [2, 4, 6, 8, 10]\n",
    "\n",
    "for i in even_list:\n",
    "    print(i * 20)"
   ]
  },
  {
   "cell_type": "code",
   "execution_count": 28,
   "id": "4a215aa6",
   "metadata": {},
   "outputs": [
    {
     "name": "stdout",
     "output_type": "stream",
     "text": [
      " 1 Odd Number\n",
      " 2 Even Number\n",
      " 3 Odd Number\n",
      " 4 Even Number\n",
      " 5 Odd Number\n",
      " 6 Even Number\n",
      " 7 Odd Number\n",
      " 8 Even Number\n",
      " 9 Odd Number\n",
      " 10 Even Number\n"
     ]
    }
   ],
   "source": [
    "even_numbers = [1, 2, 3, 4, 5, 6, 7, 8, 9, 10]\n",
    "\n",
    "for i in even_numbers:\n",
    "    if i % 2 == 0:\n",
    "        print(f\" {i} Even Number\")\n",
    "    else:\n",
    "        print(f\" {i} Odd Number\")"
   ]
  },
  {
   "cell_type": "markdown",
   "id": "f47adbae",
   "metadata": {},
   "source": [
    "### Construct a for loop to run the list of elements in the given list."
   ]
  },
  {
   "cell_type": "code",
   "execution_count": 29,
   "id": "407af2b9",
   "metadata": {},
   "outputs": [
    {
     "name": "stdout",
     "output_type": "stream",
     "text": [
      "[10, 20, 30, 40, 50]\n"
     ]
    }
   ],
   "source": [
    "input_list = [1, 2, 3, 4, 5]\n",
    "output_list = []\n",
    "\n",
    "for i in input_list:\n",
    "    output_list.append(i*10)\n",
    "print(output_list)"
   ]
  },
  {
   "cell_type": "markdown",
   "id": "82d6021d",
   "metadata": {},
   "source": [
    "### Construct a for loop to run the list of elements in the given list for a given condition using IF statement."
   ]
  },
  {
   "cell_type": "code",
   "execution_count": 32,
   "id": "035e0978",
   "metadata": {},
   "outputs": [
    {
     "name": "stdout",
     "output_type": "stream",
     "text": [
      "['1 -- is an odd number', 20, '3 -- is an odd number', 40, '5 -- is an odd number', 60, '7 -- is an odd number', 80, '9 -- is an odd number', 100]\n"
     ]
    }
   ],
   "source": [
    "input_list = [1, 2, 3, 4, 5, 6, 7, 8, 9, 10]\n",
    "output_list = []\n",
    "\n",
    "for i in input_list:\n",
    "    if i % 2 == 0:\n",
    "        output_list.append(i*10)\n",
    "    else:\n",
    "        output_list.append(f\"{i} -- is an odd number\")\n",
    "print(output_list)"
   ]
  },
  {
   "cell_type": "markdown",
   "id": "015e5a73",
   "metadata": {},
   "source": [
    "### While Loop\n",
    "- remember to increament i are else the loop will continue to run."
   ]
  },
  {
   "cell_type": "code",
   "execution_count": 1,
   "id": "e8276424",
   "metadata": {},
   "outputs": [
    {
     "name": "stdout",
     "output_type": "stream",
     "text": [
      "1\n",
      "2\n",
      "3\n",
      "4\n",
      "5\n"
     ]
    }
   ],
   "source": [
    "i = 1\n",
    "while i < 6:\n",
    "    print(i)\n",
    "    i += 1"
   ]
  },
  {
   "cell_type": "markdown",
   "id": "e3954f39",
   "metadata": {},
   "source": [
    "### Construct a for loop to run the list of elements in the given list for a given condition using while statement."
   ]
  },
  {
   "cell_type": "code",
   "execution_count": 2,
   "id": "644055f3",
   "metadata": {},
   "outputs": [
    {
     "name": "stdout",
     "output_type": "stream",
     "text": [
      "2\n",
      "4\n"
     ]
    }
   ],
   "source": [
    "# Define a list of numbers\n",
    "numbers = [1, 2, 3, 4, 5]\n",
    "\n",
    "# Initialize a loop variable\n",
    "i = 0\n",
    "\n",
    "# Loop through the list using a while statement\n",
    "while i < len(numbers):\n",
    "    # Get the current element\n",
    "    num = numbers[i]\n",
    "\n",
    "    # Print the element if it is even\n",
    "    if num % 2 == 0:\n",
    "        print(num)\n",
    "\n",
    "    # Increment the loop variable\n",
    "    i += 1"
   ]
  },
  {
   "cell_type": "markdown",
   "id": "bd68e8f3",
   "metadata": {},
   "source": [
    "### The Break statement\n",
    "- with break statement we can stop the loop even if the while condition is true."
   ]
  },
  {
   "cell_type": "code",
   "execution_count": 4,
   "id": "78bf87ac",
   "metadata": {},
   "outputs": [
    {
     "name": "stdout",
     "output_type": "stream",
     "text": [
      "1\n",
      "2\n",
      "3\n"
     ]
    }
   ],
   "source": [
    "i = 1\n",
    "while i < 6:\n",
    "    print(i)\n",
    "    if  i == 3:\n",
    "        break\n",
    "    i += 1"
   ]
  },
  {
   "cell_type": "markdown",
   "id": "ab7cf01f",
   "metadata": {},
   "source": [
    "### The Continue Statement \n",
    "- with continue statement we can stop the current iterationm, and continue to next."
   ]
  },
  {
   "cell_type": "code",
   "execution_count": 5,
   "id": "93cded79",
   "metadata": {},
   "outputs": [
    {
     "name": "stdout",
     "output_type": "stream",
     "text": [
      "1\n",
      "2\n",
      "4\n",
      "5\n",
      "6\n"
     ]
    }
   ],
   "source": [
    "i = 0\n",
    "while i < 6:\n",
    "    i += 1\n",
    "    if i == 3:\n",
    "        continue\n",
    "    print(i)"
   ]
  },
  {
   "cell_type": "markdown",
   "id": "c84707a4",
   "metadata": {},
   "source": [
    "### Using else statement in while\n",
    "- with else statement we can run a block of code once when the condition is no longer true."
   ]
  },
  {
   "cell_type": "code",
   "execution_count": 6,
   "id": "e14b000e",
   "metadata": {},
   "outputs": [
    {
     "name": "stdout",
     "output_type": "stream",
     "text": [
      "1\n",
      "2\n",
      "3\n",
      "4\n",
      "5\n",
      "i is no longer less than 6\n"
     ]
    }
   ],
   "source": [
    "i = 1\n",
    "while i < 6:\n",
    "    print(i)\n",
    "    i += 1\n",
    "else:\n",
    "    print(\"i is no longer less than 6\")"
   ]
  },
  {
   "cell_type": "markdown",
   "id": "42494788",
   "metadata": {},
   "source": [
    "### Comprehension\n",
    "- Comprehensions in Python provide us with a short and concise way to construct new sequences (such as lists, sets, dictionaries, etc.) using previously defined sequences."
   ]
  },
  {
   "cell_type": "markdown",
   "id": "4deff0e9",
   "metadata": {},
   "source": [
    "### List Comprehension"
   ]
  },
  {
   "cell_type": "markdown",
   "id": "798f17b5",
   "metadata": {},
   "source": [
    "#### Normal List"
   ]
  },
  {
   "cell_type": "code",
   "execution_count": 1,
   "id": "ebfdff8d",
   "metadata": {},
   "outputs": [
    {
     "data": {
      "text/plain": [
       "[10, 20, 30, 40, 50, 60, 70, 70]"
      ]
     },
     "execution_count": 1,
     "metadata": {},
     "output_type": "execute_result"
    }
   ],
   "source": [
    "input_num = [1, 2, 3, 4, 5, 6, 7, 7]\n",
    "list_emp = []\n",
    "\n",
    "for i in input_num:\n",
    "    list_emp.append(i*10)\n",
    "list_emp"
   ]
  },
  {
   "cell_type": "markdown",
   "id": "b04d4f9e",
   "metadata": {},
   "source": [
    "#### List comprehensions"
   ]
  },
  {
   "cell_type": "code",
   "execution_count": 2,
   "id": "9007057d",
   "metadata": {},
   "outputs": [
    {
     "data": {
      "text/plain": [
       "[10, 20, 30, 40, 50, 60, 70, 70]"
      ]
     },
     "execution_count": 2,
     "metadata": {},
     "output_type": "execute_result"
    }
   ],
   "source": [
    "input_list = [1, 2, 3, 4, 5, 6, 7, 7]\n",
    "list_comp = [i*10 for i in input_list]\n",
    "list_comp"
   ]
  },
  {
   "cell_type": "markdown",
   "id": "53bc4ae9",
   "metadata": {},
   "source": [
    "#### Normal if and else"
   ]
  },
  {
   "cell_type": "code",
   "execution_count": 3,
   "id": "fddc05c3",
   "metadata": {},
   "outputs": [
    {
     "data": {
      "text/plain": [
       "['odd', 20, 'odd', 40, 'odd', 60, 'odd', 'odd']"
      ]
     },
     "execution_count": 3,
     "metadata": {},
     "output_type": "execute_result"
    }
   ],
   "source": [
    "list_input = [1, 2, 3, 4, 5, 6, 7, 7]\n",
    "list_emp = []\n",
    "\n",
    "for i in list_input:\n",
    "    if i % 2 == 0:\n",
    "        list_emp.append(i*10)\n",
    "    else:\n",
    "        list_emp.append(\"odd\")\n",
    "list_emp"
   ]
  },
  {
   "cell_type": "markdown",
   "id": "3a329db2",
   "metadata": {},
   "source": [
    "#### List Comprehensions"
   ]
  },
  {
   "cell_type": "code",
   "execution_count": 4,
   "id": "4838c9b9",
   "metadata": {},
   "outputs": [
    {
     "data": {
      "text/plain": [
       "[20, 40, 60]"
      ]
     },
     "execution_count": 4,
     "metadata": {},
     "output_type": "execute_result"
    }
   ],
   "source": [
    "list_input = [1, 2, 3, 4, 5, 6, 7, 7]\n",
    "list_emp = []\n",
    "\n",
    "list_comp = [i*10 for i in list_input if i % 2 == 0]\n",
    "list_comp"
   ]
  },
  {
   "cell_type": "code",
   "execution_count": 11,
   "id": "704931f3",
   "metadata": {},
   "outputs": [
    {
     "data": {
      "text/plain": [
       "['odd 1', 20, 'odd 3', 40, 'odd 5', 60, 'odd 7', 'odd 7']"
      ]
     },
     "execution_count": 11,
     "metadata": {},
     "output_type": "execute_result"
    }
   ],
   "source": [
    "list_complist = [i*10 if i % 2 == 0 else \"odd \"f'{i}' for i in list_input]\n",
    "list_complist"
   ]
  },
  {
   "cell_type": "markdown",
   "id": "cae6868c",
   "metadata": {},
   "source": [
    "### Tuple Comprehensions"
   ]
  },
  {
   "cell_type": "code",
   "execution_count": 12,
   "id": "236482bc",
   "metadata": {},
   "outputs": [
    {
     "name": "stdout",
     "output_type": "stream",
     "text": [
      "['dog', 'cat', 'cow']\n",
      "[1, 2, 3]\n"
     ]
    }
   ],
   "source": [
    "list_alphanumeric = [\"dog\", \"cat\", \"cow\", 1, 2, 3]\n",
    "list_alpha = [x for x in list_alphanumeric if isinstance(x, str)]\n",
    "list_numeric = [x for x in list_alphanumeric if isinstance(x, int)]\n",
    "print(list_alpha)\n",
    "print(list_numeric)"
   ]
  },
  {
   "cell_type": "markdown",
   "id": "c5958df6",
   "metadata": {},
   "source": [
    "### Functions\n",
    "There are four types of functions in python, they are:\n",
    "- Built in function\n",
    "- User defined function\n",
    "- Lambda function\n",
    "- Recursion function\n",
    "\n",
    "To Define a function\n",
    "- We have to give function name\n",
    "- define the line of code\n",
    "- call the function"
   ]
  },
  {
   "cell_type": "code",
   "execution_count": 14,
   "id": "7c776ddc",
   "metadata": {},
   "outputs": [
    {
     "name": "stdout",
     "output_type": "stream",
     "text": [
      "Abhiram\n"
     ]
    }
   ],
   "source": [
    "def my_name():\n",
    "    print(\"Abhiram\")\n",
    "my_name()"
   ]
  },
  {
   "cell_type": "code",
   "execution_count": 15,
   "id": "95242757",
   "metadata": {},
   "outputs": [
    {
     "data": {
      "text/plain": [
       "50"
      ]
     },
     "execution_count": 15,
     "metadata": {},
     "output_type": "execute_result"
    }
   ],
   "source": [
    "def addition(a, b):\n",
    "    c = a + b\n",
    "    return c\n",
    "addition(20, 30)"
   ]
  },
  {
   "cell_type": "code",
   "execution_count": 16,
   "id": "4577edee",
   "metadata": {},
   "outputs": [
    {
     "data": {
      "text/plain": [
       "-10"
      ]
     },
     "execution_count": 16,
     "metadata": {},
     "output_type": "execute_result"
    }
   ],
   "source": [
    "def subtraction(a, b):\n",
    "    c = a - b\n",
    "    return c\n",
    "subtraction(20, 30)"
   ]
  },
  {
   "cell_type": "code",
   "execution_count": 18,
   "id": "94e2f524",
   "metadata": {},
   "outputs": [
    {
     "data": {
      "text/plain": [
       "600"
      ]
     },
     "execution_count": 18,
     "metadata": {},
     "output_type": "execute_result"
    }
   ],
   "source": [
    "def multiplication(a, b):\n",
    "    c = a * b\n",
    "    return c\n",
    "multiplication(20, 30)"
   ]
  },
  {
   "cell_type": "code",
   "execution_count": 19,
   "id": "bbba0bae",
   "metadata": {},
   "outputs": [
    {
     "data": {
      "text/plain": [
       "0.6666666666666666"
      ]
     },
     "execution_count": 19,
     "metadata": {},
     "output_type": "execute_result"
    }
   ],
   "source": [
    "def division(a, b):\n",
    "    c = a / b\n",
    "    return c\n",
    "division(20, 30)"
   ]
  },
  {
   "cell_type": "code",
   "execution_count": 20,
   "id": "1fd65fe3",
   "metadata": {},
   "outputs": [
    {
     "data": {
      "text/plain": [
       "0"
      ]
     },
     "execution_count": 20,
     "metadata": {},
     "output_type": "execute_result"
    }
   ],
   "source": [
    "def floor(j, l):\n",
    "    g = j // l\n",
    "    return g\n",
    "floor(20, 30)"
   ]
  },
  {
   "cell_type": "markdown",
   "id": "8a007319",
   "metadata": {},
   "source": [
    "There are two types of Variables, they are:\n",
    "- Global variable\n",
    "- Local variable"
   ]
  },
  {
   "cell_type": "code",
   "execution_count": 26,
   "id": "f0e32a61",
   "metadata": {},
   "outputs": [
    {
     "name": "stdout",
     "output_type": "stream",
     "text": [
      "3224\n"
     ]
    }
   ],
   "source": [
    "def numbers(a, b, c):\n",
    "    a = a + b #52\n",
    "    c = a + c #62\n",
    "    def factor(a, b):\n",
    "        c = a * b\n",
    "        return c\n",
    "    print(factor(a, c))\n",
    "numbers(20, 32, 10)"
   ]
  },
  {
   "cell_type": "markdown",
   "id": "66f0a5dd",
   "metadata": {},
   "source": [
    "### Body Mass Index"
   ]
  },
  {
   "cell_type": "code",
   "execution_count": 1,
   "id": "403f8bf4",
   "metadata": {},
   "outputs": [
    {
     "data": {
      "text/plain": [
       "'Abhiram your BMI is 18.8 and you are normal'"
      ]
     },
     "execution_count": 1,
     "metadata": {},
     "output_type": "execute_result"
    }
   ],
   "source": [
    "#defining definition name and giving parameters\n",
    "def bmi_index(name, height, weight):\n",
    "    # calculation using BMI formula\n",
    "    cm_m = (height/100) * (height/100)\n",
    "    bmi = weight / cm_m\n",
    "    #applying if and else condition to know the body nature and storing it in variable bmi_nature\n",
    "    if bmi <= 18.4:\n",
    "        bmi_nature = \"under weight\"\n",
    "    elif bmi > 18.4 and bmi <= 24.9:\n",
    "        bmi_nature = \"normal\"\n",
    "    elif bmi > 24.9 and bmi <= 29.9:\n",
    "        bmi_nature = \"over weight\"\n",
    "    else:\n",
    "        bmi_nature = \"obese\"\n",
    "    # returning bmi using f string.\n",
    "    return f\"{name} your BMI is {round(bmi, 1)} and you are {bmi_nature}\"\n",
    "# calling the defined function\n",
    "bmi_index(\"Abhiram\", 183, 63)"
   ]
  },
  {
   "cell_type": "markdown",
   "id": "270c88e4",
   "metadata": {},
   "source": [
    "### Uber fair calculator"
   ]
  },
  {
   "cell_type": "code",
   "execution_count": 2,
   "id": "57fdaa40",
   "metadata": {},
   "outputs": [
    {
     "data": {
      "text/plain": [
       "72"
      ]
     },
     "execution_count": 2,
     "metadata": {},
     "output_type": "execute_result"
    }
   ],
   "source": [
    "def uber_price(Base_fair,distance,distancerate,wait_time,time_rate):\n",
    "    uber_fair_calc = (Base_fair+(distance*distancerate)+(wait_time*time_rate))\n",
    "    return uber_fair_calc\n",
    "uber_price(20,10,5,1,2)"
   ]
  },
  {
   "cell_type": "markdown",
   "id": "e7722dd8",
   "metadata": {},
   "source": [
    "### Lambda Defined Function also called anonymous function\n",
    "- we don't give function name in lambda\n",
    "- we can use lambda function only once\n",
    "- we can do only one operation"
   ]
  },
  {
   "cell_type": "code",
   "execution_count": 3,
   "id": "2dd4b357",
   "metadata": {},
   "outputs": [
    {
     "data": {
      "text/plain": [
       "20"
      ]
     },
     "execution_count": 3,
     "metadata": {},
     "output_type": "execute_result"
    }
   ],
   "source": [
    "multi = (lambda x: x*2)\n",
    "multi(10)"
   ]
  },
  {
   "cell_type": "code",
   "execution_count": 4,
   "id": "54f937b7",
   "metadata": {},
   "outputs": [
    {
     "data": {
      "text/plain": [
       "560"
      ]
     },
     "execution_count": 4,
     "metadata": {},
     "output_type": "execute_result"
    }
   ],
   "source": [
    "multi = (lambda y,x: y*x)\n",
    "multi(10, 56)"
   ]
  },
  {
   "cell_type": "code",
   "execution_count": 5,
   "id": "d3f448c0",
   "metadata": {},
   "outputs": [
    {
     "data": {
      "text/plain": [
       "'greater'"
      ]
     },
     "execution_count": 5,
     "metadata": {},
     "output_type": "execute_result"
    }
   ],
   "source": [
    "something =(lambda x,y:\"greater\" if x > y else \"lesser\")\n",
    "something(10, 7)"
   ]
  },
  {
   "cell_type": "code",
   "execution_count": 6,
   "id": "99709770",
   "metadata": {},
   "outputs": [
    {
     "data": {
      "text/plain": [
       "[1, 25, 100, 225, 625]"
      ]
     },
     "execution_count": 6,
     "metadata": {},
     "output_type": "execute_result"
    }
   ],
   "source": [
    "list_ele = [1,5,10,15,25]\n",
    "square = map(lambda x: x*x, list_ele)\n",
    "list(square)"
   ]
  },
  {
   "cell_type": "markdown",
   "id": "7c634e8f",
   "metadata": {},
   "source": [
    "### Importing functools package and using reduce module in functools"
   ]
  },
  {
   "cell_type": "code",
   "execution_count": 7,
   "id": "8337381b",
   "metadata": {},
   "outputs": [
    {
     "data": {
      "text/plain": [
       "30"
      ]
     },
     "execution_count": 7,
     "metadata": {},
     "output_type": "execute_result"
    }
   ],
   "source": [
    "from functools import reduce\n",
    "list_ele = [1,5,6,8,10]\n",
    "reduce_li = reduce(lambda x,y : x+y, list_ele)\n",
    "reduce_li"
   ]
  },
  {
   "cell_type": "markdown",
   "id": "b65a6f71",
   "metadata": {},
   "source": [
    "### Using filter function in combination with lambda function"
   ]
  },
  {
   "cell_type": "code",
   "execution_count": null,
   "id": "f9acaec6",
   "metadata": {},
   "outputs": [],
   "source": [
    "list_fil = [1,3,5,6,8,10]\n",
    "fil_name = filter(lambda x: x > 8, list_fil)\n",
    "list(fil_name)"
   ]
  }
 ],
 "metadata": {
  "kernelspec": {
   "display_name": "base",
   "language": "python",
   "name": "python3"
  },
  "language_info": {
   "codemirror_mode": {
    "name": "ipython",
    "version": 3
   },
   "file_extension": ".py",
   "mimetype": "text/x-python",
   "name": "python",
   "nbconvert_exporter": "python",
   "pygments_lexer": "ipython3",
   "version": "3.12.7"
  }
 },
 "nbformat": 4,
 "nbformat_minor": 5
}
