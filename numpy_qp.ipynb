{
 "cells": [
  {
   "cell_type": "markdown",
   "id": "2e110109",
   "metadata": {},
   "source": [
    "### Array creation and attributes using NumPy"
   ]
  },
  {
   "cell_type": "code",
   "execution_count": 1,
   "id": "4bc53138",
   "metadata": {},
   "outputs": [],
   "source": [
    "# 1. Import the Numpy library with the alias 'np'.\n",
    "import numpy as np"
   ]
  },
  {
   "cell_type": "code",
   "execution_count": 3,
   "id": "5ba956f1",
   "metadata": {},
   "outputs": [
    {
     "name": "stdout",
     "output_type": "stream",
     "text": [
      "[1 2 3 4 5]\n"
     ]
    }
   ],
   "source": [
    "# 2. Create a 1D numpy array from the python list [1, 2, 3, 4, 5].\n",
    "array_id = np.array([1, 2, 3, 4, 5])\n",
    "print(array_id)"
   ]
  },
  {
   "cell_type": "code",
   "execution_count": 16,
   "id": "c9b2e5f2",
   "metadata": {},
   "outputs": [
    {
     "name": "stdout",
     "output_type": "stream",
     "text": [
      "[0 0 0 0 0 0 0 0 0 0]\n"
     ]
    }
   ],
   "source": [
    "# 3. Create a 1D arrays of 10 zeros.\n",
    "array_zeros = np.zeros(10, dtype=int)\n",
    "print(array_zeros)"
   ]
  },
  {
   "cell_type": "code",
   "execution_count": 13,
   "id": "99f4d8b5",
   "metadata": {},
   "outputs": [
    {
     "name": "stdout",
     "output_type": "stream",
     "text": [
      "[[1 1 1]\n",
      " [1 1 1]\n",
      " [1 1 1]]\n"
     ]
    }
   ],
   "source": [
    "# 4. Create a 3 x 3 array filled with ones.\n",
    "array_ones = np.ones((3, 3), dtype=int)\n",
    "print(array_ones)"
   ]
  },
  {
   "cell_type": "code",
   "execution_count": null,
   "id": "d66d759b",
   "metadata": {},
   "outputs": [
    {
     "name": "stdout",
     "output_type": "stream",
     "text": [
      "[10 12 14 16 18 20 22 24 26 28 30 32 34 36 38 40 42 44 46 48 50]\n"
     ]
    }
   ],
   "source": [
    "# 5. Create an array of all even integers from 10 to 50.\n",
    "array_even = np.arange(10, 51, 2)\n",
    "print(array_even)\n",
    "# arange is as range in python, but return an array.\n"
   ]
  },
  {
   "cell_type": "code",
   "execution_count": 19,
   "id": "f0dc69ad",
   "metadata": {},
   "outputs": [
    {
     "name": "stdout",
     "output_type": "stream",
     "text": [
      "[[0 1 2]\n",
      " [3 4 5]\n",
      " [6 7 8]]\n"
     ]
    }
   ],
   "source": [
    "# 6. Create a 3X3 matrix with values ranging from 0 to 8.\n",
    "matrix_3x3 = np.arange(9).reshape(3, 3)\n",
    "print(matrix_3x3)"
   ]
  },
  {
   "cell_type": "code",
   "execution_count": null,
   "id": "b0c36dd3",
   "metadata": {},
   "outputs": [
    {
     "name": "stdout",
     "output_type": "stream",
     "text": [
      "[[1 0 0 0]\n",
      " [0 1 0 0]\n",
      " [0 0 1 0]\n",
      " [0 0 0 1]]\n"
     ]
    }
   ],
   "source": [
    "# 7. Create 4x4 identity matrix.\n",
    "identity_matrix = np.eye(4, dtype=int)\n",
    "print(identity_matrix)\n",
    "# np.eye is used to create a 2D array with ones on the diagonal and zeros elsewhere."
   ]
  },
  {
   "cell_type": "code",
   "execution_count": null,
   "id": "42a6f593",
   "metadata": {},
   "outputs": [
    {
     "name": "stdout",
     "output_type": "stream",
     "text": [
      "[0.   0.25 0.5  0.75 1.  ]\n"
     ]
    }
   ],
   "source": [
    "# 8. Create an array of 5 numbers evenly spaced between 0 and 1.\n",
    "array_linspace = np.linspace(0, 1, 5)\n",
    "print(array_linspace)\n",
    "# linspace is used to control number of elements in the array."
   ]
  },
  {
   "cell_type": "code",
   "execution_count": 23,
   "id": "26ad266d",
   "metadata": {},
   "outputs": [
    {
     "name": "stdout",
     "output_type": "stream",
     "text": [
      "[[0.59188404 0.38132965 0.7508258  0.03925646]\n",
      " [0.74829948 0.16012904 0.05715558 0.18332562]\n",
      " [0.53103049 0.63440179 0.35763802 0.06007654]]\n"
     ]
    }
   ],
   "source": [
    "# 9. Create a 3x4 array filled with random numbers between 0 and 1.\n",
    "random_array = np.random.rand(3, 4)\n",
    "print(random_array)  "
   ]
  },
  {
   "cell_type": "code",
   "execution_count": 26,
   "id": "05b0829a",
   "metadata": {},
   "outputs": [
    {
     "name": "stdout",
     "output_type": "stream",
     "text": [
      "[[96 11 76 16 57]\n",
      " [61 43 27 57  2]\n",
      " [65 63 21 37 15]\n",
      " [86 30 93 88 36]\n",
      " [85 34 45 41 46]]\n"
     ]
    }
   ],
   "source": [
    "# 10. Create a 5x5 array with random integers from 1 to 100.\n",
    "random_array = np.random.randint(1, 101, size=(5, 5))\n",
    "print(random_array) "
   ]
  },
  {
   "cell_type": "code",
   "execution_count": 28,
   "id": "600c9548",
   "metadata": {},
   "outputs": [
    {
     "name": "stdout",
     "output_type": "stream",
     "text": [
      "[[ 0  1  2  3  4]\n",
      " [ 5  6  7  8  9]\n",
      " [10 11 12 13 14]\n",
      " [15 16 17 18 19]\n",
      " [20 21 22 23 24]]\n",
      "(5, 5)\n"
     ]
    }
   ],
   "source": [
    "# 11. Given the array arr = np.arange(25).reshape(5, 5), find its shape. \n",
    "arr = np.arange(25).reshape(5, 5)\n",
    "print(arr)\n",
    "print(arr.shape)"
   ]
  },
  {
   "cell_type": "code",
   "execution_count": 31,
   "id": "93926eab",
   "metadata": {},
   "outputs": [
    {
     "name": "stdout",
     "output_type": "stream",
     "text": [
      "int32\n"
     ]
    }
   ],
   "source": [
    "# 12. for the same array, find its data type.\n",
    "print(arr.dtype)"
   ]
  },
  {
   "cell_type": "code",
   "execution_count": 32,
   "id": "9273e89d",
   "metadata": {},
   "outputs": [
    {
     "name": "stdout",
     "output_type": "stream",
     "text": [
      "25\n"
     ]
    }
   ],
   "source": [
    "# 13. For the same array arr, find the total number of elements.\n",
    "print(arr.size)"
   ]
  },
  {
   "cell_type": "code",
   "execution_count": 33,
   "id": "c60e9a34",
   "metadata": {},
   "outputs": [
    {
     "name": "stdout",
     "output_type": "stream",
     "text": [
      "[1. 2. 3.]\n"
     ]
    }
   ],
   "source": [
    "# 14. Create the array [1, 2, 3] but make sure its data type is float. \n",
    "array_float = np.array([1, 2, 3], dtype=float)\n",
    "print(array_float)"
   ]
  },
  {
   "cell_type": "code",
   "execution_count": null,
   "id": "104db9a8",
   "metadata": {},
   "outputs": [
    {
     "name": "stdout",
     "output_type": "stream",
     "text": [
      "[1. 2. 3. 4. 5.]\n"
     ]
    }
   ],
   "source": [
    "# 15. Convert the data type of an existing integer array to float.\n",
    "array_int = np.array([1, 2, 3, 4, 5])\n",
    "array_converted = array_int.astype(float)\n",
    "print(array_converted)"
   ]
  },
  {
   "cell_type": "markdown",
   "id": "e80d0819",
   "metadata": {},
   "source": [
    "### Indexing & Slicing (Accessing Your Data)"
   ]
  },
  {
   "cell_type": "code",
   "execution_count": 6,
   "id": "f65d0b25",
   "metadata": {},
   "outputs": [
    {
     "name": "stdout",
     "output_type": "stream",
     "text": [
      "[0 1 2 3 4 5 6 7 8 9]\n"
     ]
    }
   ],
   "source": [
    "arr_1d = np.arange(10)\n",
    "print(arr_1d)"
   ]
  },
  {
   "cell_type": "code",
   "execution_count": 7,
   "id": "a7f0491a",
   "metadata": {},
   "outputs": [
    {
     "name": "stdout",
     "output_type": "stream",
     "text": [
      "[[1 2 3]\n",
      " [4 5 6]\n",
      " [7 8 9]]\n"
     ]
    }
   ],
   "source": [
    "arr_2d = np.array([[1, 2, 3], [4, 5, 6], [7, 8, 9]])\n",
    "print(arr_2d)"
   ]
  },
  {
   "cell_type": "code",
   "execution_count": 5,
   "id": "317cef04",
   "metadata": {},
   "outputs": [
    {
     "name": "stdout",
     "output_type": "stream",
     "text": [
      "0\n"
     ]
    }
   ],
   "source": [
    "# 16. From arr_1d, get the first element.\n",
    "print(arr_1d[0]) "
   ]
  },
  {
   "cell_type": "code",
   "execution_count": 8,
   "id": "eaea8ddc",
   "metadata": {},
   "outputs": [
    {
     "name": "stdout",
     "output_type": "stream",
     "text": [
      "9\n"
     ]
    }
   ],
   "source": [
    "# 17. From arr_1d, get the last element. \n",
    "print(arr_1d[-1])"
   ]
  },
  {
   "cell_type": "code",
   "execution_count": 9,
   "id": "af0936e9",
   "metadata": {},
   "outputs": [
    {
     "name": "stdout",
     "output_type": "stream",
     "text": [
      "[2 3 4 5]\n"
     ]
    }
   ],
   "source": [
    "# 18. From arr_1d, get the elements from index 2 up to index 5.\n",
    "print(arr_1d[2:6]) "
   ]
  },
  {
   "cell_type": "code",
   "execution_count": 10,
   "id": "570f6895",
   "metadata": {},
   "outputs": [
    {
     "name": "stdout",
     "output_type": "stream",
     "text": [
      "[9 8 7 6 5 4 3 2 1 0]\n"
     ]
    }
   ],
   "source": [
    "# 19. From arr_1d, get all elements in reverse order.\n",
    "print(arr_1d[::-1]) "
   ]
  },
  {
   "cell_type": "code",
   "execution_count": 11,
   "id": "c7525967",
   "metadata": {},
   "outputs": [
    {
     "name": "stdout",
     "output_type": "stream",
     "text": [
      "6\n"
     ]
    }
   ],
   "source": [
    "# 20. From arr_2d, get the element at row 1, column 2 (which is 6). \n",
    "print(arr_2d[1, 2])"
   ]
  },
  {
   "cell_type": "code",
   "execution_count": 12,
   "id": "1440a01e",
   "metadata": {},
   "outputs": [
    {
     "name": "stdout",
     "output_type": "stream",
     "text": [
      "[1 2 3]\n"
     ]
    }
   ],
   "source": [
    "# 21. From arr_2d, get the entire first row [1, 2, 3].\n",
    "print(arr_2d[0]) "
   ]
  },
  {
   "cell_type": "code",
   "execution_count": 13,
   "id": "7cbabc1a",
   "metadata": {},
   "outputs": [
    {
     "name": "stdout",
     "output_type": "stream",
     "text": [
      "[2 5 8]\n"
     ]
    }
   ],
   "source": [
    "# 22. From arr_2d, get the entire second column [2, 5, 8].\n",
    "print(arr_2d[:, 1])"
   ]
  },
  {
   "cell_type": "code",
   "execution_count": 14,
   "id": "02d6c118",
   "metadata": {},
   "outputs": [
    {
     "name": "stdout",
     "output_type": "stream",
     "text": [
      "[[1 2]\n",
      " [4 5]]\n"
     ]
    }
   ],
   "source": [
    "# 23. From arr_2d, extract the sub-array [[1, 2], [4, 5]]. \n",
    "print(arr_2d[0:2, 0:2])"
   ]
  },
  {
   "cell_type": "code",
   "execution_count": null,
   "id": "73ed3605",
   "metadata": {},
   "outputs": [
    {
     "name": "stdout",
     "output_type": "stream",
     "text": [
      "[6 7 8 9]\n",
      "[False False False False False False  True  True  True  True]\n"
     ]
    }
   ],
   "source": [
    "# 24. Create a boolean mask to find all numbers in arr_1d that are greater than 5. \n",
    "mask = arr_1d > 5\n",
    "print(mask)"
   ]
  },
  {
   "cell_type": "code",
   "execution_count": 20,
   "id": "c4f366dd",
   "metadata": {},
   "outputs": [
    {
     "name": "stdout",
     "output_type": "stream",
     "text": [
      "[6 7 8 9]\n"
     ]
    }
   ],
   "source": [
    "# 25. Use the boolean mask from the previous question to select the actual numbers from arr_1d. \n",
    "print(arr_1d[mask])"
   ]
  },
  {
   "cell_type": "code",
   "execution_count": 21,
   "id": "115e546b",
   "metadata": {},
   "outputs": [
    {
     "name": "stdout",
     "output_type": "stream",
     "text": [
      "[1 3 5 7 9]\n"
     ]
    }
   ],
   "source": [
    "# 26. In one line, select all numbers from arr_2d that are odd.\n",
    "print(arr_2d[arr_2d % 2 == 1]) "
   ]
  },
  {
   "cell_type": "code",
   "execution_count": 22,
   "id": "86587c1b",
   "metadata": {},
   "outputs": [
    {
     "name": "stdout",
     "output_type": "stream",
     "text": [
      "[0 1 2 3 4 5 0 0 0 0]\n"
     ]
    }
   ],
   "source": [
    "# 27. In arr_1d, replace all values greater than 5 with the value 0. \n",
    "arr_1d[arr_1d > 5] = 0\n",
    "print(arr_1d)"
   ]
  },
  {
   "cell_type": "code",
   "execution_count": 33,
   "id": "13c165fd",
   "metadata": {},
   "outputs": [
    {
     "name": "stdout",
     "output_type": "stream",
     "text": [
      "[20 40 80]\n"
     ]
    }
   ],
   "source": [
    "# 28. From arr_1d, select the elements at indices 1, 3, and 7.\n",
    "arr_1d = np.array([10, 20, 30, 40, 50, 60, 70, 80, 90])\n",
    "print(arr_1d[[1, 3, 7]])\n"
   ]
  },
  {
   "cell_type": "code",
   "execution_count": 36,
   "id": "a8f3204b",
   "metadata": {},
   "outputs": [
    {
     "name": "stdout",
     "output_type": "stream",
     "text": [
      "[[1 2 3]\n",
      " [7 8 9]]\n"
     ]
    }
   ],
   "source": [
    "# 29. From arr_2d, select the first and third rows. \n",
    "print(arr_2d[[0, 2], :])"
   ]
  },
  {
   "cell_type": "code",
   "execution_count": 38,
   "id": "cad05ef4",
   "metadata": {},
   "outputs": [
    {
     "name": "stdout",
     "output_type": "stream",
     "text": [
      "Original array: [10 20 30 40 50]\n",
      "Slice (view): [20 30 40]\n",
      "Fancy index (copy): [20 30 40]\n"
     ]
    }
   ],
   "source": [
    "\"\"\"30. What is the difference between a slice (view) and a fancy index (copy)? Modify a slice of \n",
    "arr_1d and see if the original changes.\"\"\"\n",
    "arr_1d = np.array([10, 20, 30, 40, 50])\n",
    "slice_arr = arr_1d[1:4]  # This creates a view (slice)\n",
    "facny_arr = arr_1d[[1, 2, 3]]  # This creates a copy (fancy index)\n",
    "print(\"Original array:\", arr_1d)\n",
    "print(\"Slice (view):\", slice_arr)\n",
    "print(\"Fancy index (copy):\", facny_arr)"
   ]
  },
  {
   "cell_type": "code",
   "execution_count": 39,
   "id": "915a80d5",
   "metadata": {},
   "outputs": [
    {
     "name": "stdout",
     "output_type": "stream",
     "text": [
      "Original arr_2d:\n",
      " [[1 2 3]\n",
      " [4 5 6]\n",
      " [7 8 9]]\n",
      "Modified copy of arr_2d:\n",
      " [[99  2  3]\n",
      " [ 4  5  6]\n",
      " [ 7  8  9]]\n"
     ]
    }
   ],
   "source": [
    "# 31. Create a copy of arr_2d and modify an element in the copy. Check if the original array is affected.\n",
    "arr_2d_copy = arr_2d.copy()\n",
    "arr_2d_copy[0, 0] = 99\n",
    "print(\"Original arr_2d:\\n\", arr_2d)\n",
    "print(\"Modified copy of arr_2d:\\n\", arr_2d_copy) "
   ]
  },
  {
   "cell_type": "code",
   "execution_count": 40,
   "id": "f35d6385",
   "metadata": {},
   "outputs": [
    {
     "name": "stdout",
     "output_type": "stream",
     "text": [
      "[1 5 9]\n"
     ]
    }
   ],
   "source": [
    "# 32. From arr_2d, get the diagonal elements [1, 5, 9]. \n",
    "print(np.diag(arr_2d))"
   ]
  },
  {
   "cell_type": "code",
   "execution_count": 56,
   "id": "e8e55d30",
   "metadata": {},
   "outputs": [
    {
     "name": "stdout",
     "output_type": "stream",
     "text": [
      "Original \n",
      "[[1 2 3]\n",
      " [4 5 6]\n",
      " [7 8 9]] \n",
      "\n",
      "less than < 5  \n",
      "[[1 2 3]\n",
      " [4 5 6]]\n"
     ]
    }
   ],
   "source": [
    "# 33. Select all rows from arr_2d where the first element is less than 5.\n",
    "arr_2d = np.array([[1, 2, 3], [4, 5, 6], [7, 8, 9]])\n",
    "print(f\"Original \\n{arr_2d} \\n\")\n",
    "print(f\"less than < 5  \\n{arr_2d[arr_2d[:, 0] < 5]}\")"
   ]
  },
  {
   "cell_type": "code",
   "execution_count": 57,
   "id": "fbdea0d8",
   "metadata": {},
   "outputs": [
    {
     "name": "stdout",
     "output_type": "stream",
     "text": [
      "[2 4 9]\n"
     ]
    }
   ],
   "source": [
    "# 34. From arr_2d, select the elements [2, 4, 9]. \n",
    "arr_2d = np.array([[1, 2, 3], [4, 5, 6], [7, 8, 9]])\n",
    "print(arr_2d[[0, 1, 2], [1, 0, 2]])"
   ]
  },
  {
   "cell_type": "code",
   "execution_count": 58,
   "id": "7a0f6525",
   "metadata": {},
   "outputs": [
    {
     "name": "stdout",
     "output_type": "stream",
     "text": [
      "[[7 8 9]\n",
      " [4 5 6]\n",
      " [1 2 3]]\n"
     ]
    }
   ],
   "source": [
    "# 35. Reverse the order of the rows in arr_2d.\n",
    "print(arr_2d[::-1])"
   ]
  },
  {
   "cell_type": "markdown",
   "id": "ffac7cc5",
   "metadata": {},
   "source": [
    "### Mathematical & Universal Functions (UForms)"
   ]
  },
  {
   "cell_type": "code",
   "execution_count": 59,
   "id": "e56b48b0",
   "metadata": {},
   "outputs": [
    {
     "name": "stdout",
     "output_type": "stream",
     "text": [
      "[ 6  8 10 12]\n"
     ]
    }
   ],
   "source": [
    "# 36. Add array a and b element-wise.  \n",
    "\n",
    "a = np.array([1, 2, 3, 4])\n",
    "b = np.array([5, 6, 7, 8])\n",
    "\n",
    "print(a+b)\n"
   ]
  },
  {
   "cell_type": "code",
   "execution_count": 60,
   "id": "4cf326c8",
   "metadata": {},
   "outputs": [
    {
     "name": "stdout",
     "output_type": "stream",
     "text": [
      "[ 3  6  9 12]\n"
     ]
    }
   ],
   "source": [
    "# 37. Multiply array a by 3 (scalar multiplication).\n",
    "print(a * 3)"
   ]
  },
  {
   "cell_type": "code",
   "execution_count": 62,
   "id": "ac647def",
   "metadata": {},
   "outputs": [
    {
     "name": "stdout",
     "output_type": "stream",
     "text": [
      "[ 1  4  9 16]\n",
      "[ 1  4  9 16]\n"
     ]
    }
   ],
   "source": [
    "# 38. Calculate the square of every element in array a.\n",
    "print(a ** 2)\n",
    "print(np.square(a)) "
   ]
  },
  {
   "cell_type": "code",
   "execution_count": 63,
   "id": "2c6f64a8",
   "metadata": {},
   "outputs": [
    {
     "name": "stdout",
     "output_type": "stream",
     "text": [
      "[2.23606798 2.44948974 2.64575131 2.82842712]\n"
     ]
    }
   ],
   "source": [
    "# 39. Calculate the square root of every element in b.\n",
    "print(np.sqrt(b))"
   ]
  },
  {
   "cell_type": "code",
   "execution_count": 64,
   "id": "dc08e304",
   "metadata": {},
   "outputs": [
    {
     "name": "stdout",
     "output_type": "stream",
     "text": [
      "[ 2.71828183  7.3890561  20.08553692 54.59815003]\n"
     ]
    }
   ],
   "source": [
    "# 40. Calculate the exponential (e^x) of every element in a. \n",
    "print(np.exp(a))"
   ]
  },
  {
   "cell_type": "code",
   "execution_count": 65,
   "id": "09a405f3",
   "metadata": {},
   "outputs": [
    {
     "name": "stdout",
     "output_type": "stream",
     "text": [
      "10\n",
      "10\n"
     ]
    }
   ],
   "source": [
    "# 41. Find the sum of all elements in a.\n",
    "print(np.sum(a))\n",
    "print(sum(a))"
   ]
  },
  {
   "cell_type": "code",
   "execution_count": 68,
   "id": "f65c8c26",
   "metadata": {},
   "outputs": [
    {
     "name": "stdout",
     "output_type": "stream",
     "text": [
      "6.5\n",
      "6.5\n"
     ]
    }
   ],
   "source": [
    "# 42. Find the mean of all elements in b.\n",
    "print(np.mean(b))\n",
    "print(b.mean()) "
   ]
  },
  {
   "cell_type": "code",
   "execution_count": 70,
   "id": "038d9391",
   "metadata": {},
   "outputs": [
    {
     "name": "stdout",
     "output_type": "stream",
     "text": [
      "4\n",
      "4\n",
      "4\n"
     ]
    }
   ],
   "source": [
    "# 43. Find the maximum value in a.\n",
    "print(np.max(a))\n",
    "print(max(a)) \n",
    "print(a.max())"
   ]
  },
  {
   "cell_type": "code",
   "execution_count": null,
   "id": "a2cbb05d",
   "metadata": {},
   "outputs": [
    {
     "name": "stdout",
     "output_type": "stream",
     "text": [
      "5\n",
      "5\n",
      "5\n"
     ]
    }
   ],
   "source": [
    "# 44. Find the minimum value in b.\n",
    "print(np.min(b))\n",
    "print(min(b)) \n",
    "print(b.min())"
   ]
  },
  {
   "cell_type": "code",
   "execution_count": 79,
   "id": "cad864e1",
   "metadata": {},
   "outputs": [
    {
     "name": "stdout",
     "output_type": "stream",
     "text": [
      "[[ 0  1  2  3]\n",
      " [ 4  5  6  7]\n",
      " [ 8  9 10 11]]\n",
      "66\n"
     ]
    }
   ],
   "source": [
    "# 45. Given a 2D array matrix = np.arange(12).reshape(3, 4), find the sum of all its elements.\n",
    "matrix = np.arange(12).reshape(3, 4)\n",
    "print(matrix)\n",
    "print(np.sum(matrix))"
   ]
  },
  {
   "cell_type": "code",
   "execution_count": 86,
   "id": "e554181b",
   "metadata": {},
   "outputs": [
    {
     "name": "stdout",
     "output_type": "stream",
     "text": [
      "[12 15 18 21]\n",
      "[12 15 18 21]\n"
     ]
    }
   ],
   "source": [
    "# 46. For the matrix, find the sum of each column.\n",
    "matrix = np.arange(12).reshape(3, 4)\n",
    "print(sum(matrix))\n",
    "print(matrix.sum(axis=0))\n",
    "\n",
    "# axis=0 → operation along rows → result per column.\n",
    "# axis=1 → operation along columns → result per row."
   ]
  },
  {
   "cell_type": "code",
   "execution_count": null,
   "id": "a1bd21ec",
   "metadata": {},
   "outputs": [
    {
     "name": "stdout",
     "output_type": "stream",
     "text": [
      "[1.5 5.5 9.5]\n"
     ]
    }
   ],
   "source": [
    "# 47. For the matrix, find the mean of each row.\n",
    "matrix = np.arange(12).reshape(3, 4)\n",
    "print(matrix.mean(axis=1))"
   ]
  },
  {
   "cell_type": "code",
   "execution_count": 89,
   "id": "197f7ba5",
   "metadata": {},
   "outputs": [
    {
     "name": "stdout",
     "output_type": "stream",
     "text": [
      "[[ 0  1  2  3]\n",
      " [ 4  5  6  7]\n",
      " [ 8  9 10 11]]\n",
      "[0 4 8]\n"
     ]
    }
   ],
   "source": [
    "# 48. For the matrix, find the minimum value in each row.\n",
    "matrix = np.arange(12).reshape(3, 4)\n",
    "print(matrix)\n",
    "print(matrix.min(axis=1))"
   ]
  },
  {
   "cell_type": "code",
   "execution_count": 90,
   "id": "df5dd530",
   "metadata": {},
   "outputs": [
    {
     "name": "stdout",
     "output_type": "stream",
     "text": [
      "[5 6 7 8]\n"
     ]
    }
   ],
   "source": [
    "# 49. Create a new array by finding which element is larger at each position between a and b.\n",
    "a = np.array([1, 2, 3, 4])\n",
    "b = np.array([5, 6, 7, 8])\n",
    "\n",
    "print(np.maximum(a, b))"
   ]
  },
  {
   "cell_type": "code",
   "execution_count": 93,
   "id": "1354a89a",
   "metadata": {},
   "outputs": [
    {
     "name": "stdout",
     "output_type": "stream",
     "text": [
      "[2. 2. 4.]\n",
      "[2 2 4]\n"
     ]
    }
   ],
   "source": [
    "# 50. Round all values in the array arr_float = np.array([1.5, 2.3, 3.8]) to the nearest integer.\n",
    "arr_float = np.array([1.5, 2.3, 3.8])\n",
    "print(np.round(arr_float))\n",
    "print(np.round(arr_float).astype(int)) "
   ]
  },
  {
   "cell_type": "code",
   "execution_count": 94,
   "id": "2ed69677",
   "metadata": {},
   "outputs": [
    {
     "name": "stdout",
     "output_type": "stream",
     "text": [
      "1.118033988749895\n"
     ]
    }
   ],
   "source": [
    "# 51. Calculate the standard deviation of array a.\n",
    "print(np.std(a))"
   ]
  },
  {
   "cell_type": "code",
   "execution_count": 95,
   "id": "c7a3b599",
   "metadata": {},
   "outputs": [
    {
     "name": "stdout",
     "output_type": "stream",
     "text": [
      "[ 1  3  6 10]\n"
     ]
    }
   ],
   "source": [
    "# 52. Calculate the cumulative sum of a. The result should be [1, 3, 6, 10].\n",
    "print(np.cumsum(a)) "
   ]
  },
  {
   "cell_type": "code",
   "execution_count": 97,
   "id": "95c5a717",
   "metadata": {},
   "outputs": [
    {
     "name": "stdout",
     "output_type": "stream",
     "text": [
      "[False False False False]\n",
      "[False False False False]\n"
     ]
    }
   ],
   "source": [
    "# 53. Compare arrays a and b to see if they are equal element-wise.\n",
    "print(np.equal(a, b)) \n",
    "print(a == b)"
   ]
  },
  {
   "cell_type": "code",
   "execution_count": 98,
   "id": "e582186c",
   "metadata": {},
   "outputs": [
    {
     "name": "stdout",
     "output_type": "stream",
     "text": [
      "True\n"
     ]
    }
   ],
   "source": [
    "# 54. Check if any element in the result of a > 2 is True.\n",
    "print(np.any(a > 2))"
   ]
  },
  {
   "cell_type": "code",
   "execution_count": 101,
   "id": "8d25a543",
   "metadata": {},
   "outputs": [
    {
     "name": "stdout",
     "output_type": "stream",
     "text": [
      "True\n"
     ]
    }
   ],
   "source": [
    "# 55. Check if all elements in b are greater than 4.\n",
    "print(np.all(b > 4))"
   ]
  },
  {
   "cell_type": "markdown",
   "id": "9d619e66",
   "metadata": {},
   "source": [
    "### Key Manipulation Techniques "
   ]
  },
  {
   "cell_type": "code",
   "execution_count": null,
   "id": "b3460e55",
   "metadata": {},
   "outputs": [
    {
     "name": "stdout",
     "output_type": "stream",
     "text": [
      "[ 0  1  2  3  4  5  6  7  8  9 10 11 12 13 14 15 16 17 18 19]\n",
      "[[ 0  1  2  3  4]\n",
      " [ 5  6  7  8  9]\n",
      " [10 11 12 13 14]\n",
      " [15 16 17 18 19]]\n"
     ]
    }
   ],
   "source": [
    "# 56. Reshape the 1D array arr = np.arange(20) into a 4x5 matrix.\n",
    "arr = np.arange(20)\n",
    "reshaped_arr = arr.reshape(4, 5)\n",
    "print(reshaped_arr) "
   ]
  },
  {
   "cell_type": "code",
   "execution_count": 6,
   "id": "9ad68559",
   "metadata": {},
   "outputs": [
    {
     "name": "stdout",
     "output_type": "stream",
     "text": [
      "[1 2 3 4]\n",
      "[1 2 3 4]\n"
     ]
    }
   ],
   "source": [
    "# 57. \"Flatten\" the 2D array matrix = np.array([[1,2],[3,4]]) into a 1D array.\n",
    "matrix = np.array([[1, 2], [3, 4]])\n",
    "flattened_arr = matrix.flatten()\n",
    "print(flattened_arr)\n",
    "ravel_arr = matrix.ravel()\n",
    "print(ravel_arr)"
   ]
  },
  {
   "cell_type": "markdown",
   "id": "a77758e8",
   "metadata": {},
   "source": [
    "### 58. What is the main difference between .ravel() and .flatten()?\n",
    "View: In NumPy, a view is a way of accessing the same data in an array without creating a new copy of it.\n",
    "Copy: Copies the original file and makes changes in the copied files.\n",
    "\n",
    "Both ravel and flatten are numpy methods used to convert multi-dimensional arrays into 1d arrays, but they differ how they the result.\n",
    "ravel: returns a view, more memory-efficient, Faster(no copying unless needed), Changes the result may affect the original array.\n",
    "flatten: Always returns a copy, uses more memory, Slightly slower due to copying, Changes do not affect the original.\n",
    " "
   ]
  },
  {
   "cell_type": "code",
   "execution_count": 8,
   "id": "b6a2462c",
   "metadata": {},
   "outputs": [
    {
     "name": "stdout",
     "output_type": "stream",
     "text": [
      "Ravelled array: [99  2  3  4]\n",
      "Flattened array: [88  2  3  4]\n"
     ]
    }
   ],
   "source": [
    "matrix = np.array([[1, 2], [3, 4]])\n",
    "\n",
    "ravelled_arr = matrix.ravel()\n",
    "flattened_arr = matrix.flatten()\n",
    "\n",
    "ravelled_arr[0] = 99  # Modifying the ravelled array\n",
    "print(\"Ravelled array:\", ravelled_arr)\n",
    "\n",
    "flattened_arr[0] = 88  # Modifying the flattened array\n",
    "print(\"Flattened array:\", flattened_arr)"
   ]
  },
  {
   "cell_type": "code",
   "execution_count": null,
   "id": "1128ca68",
   "metadata": {},
   "outputs": [
    {
     "name": "stdout",
     "output_type": "stream",
     "text": [
      "[[ 0  1  2  3  4]\n",
      " [ 5  6  7  8  9]\n",
      " [10 11 12 13 14]]\n",
      "[[ 0  5 10]\n",
      " [ 1  6 11]\n",
      " [ 2  7 12]\n",
      " [ 3  8 13]\n",
      " [ 4  9 14]]\n"
     ]
    }
   ],
   "source": [
    "# 59. Transpose a 3x5 matrix into a 5x3 matrix. \n",
    "matrix_3x5 = np.arange(15).reshape(3, 5)\n",
    "transported_matrix = matrix_3x5.T\n",
    "print(matrix_3x5)\n",
    "print(transported_matrix)\n",
    "# .T: The .T attribute in NumPy is shorthand for transpose. It flips the axes of an array—rows become columns and columns become rows."
   ]
  },
  {
   "cell_type": "code",
   "execution_count": 18,
   "id": "649e19c7",
   "metadata": {},
   "outputs": [
    {
     "name": "stdout",
     "output_type": "stream",
     "text": [
      "[[1. 1. 1.]\n",
      " [1. 1. 1.]]\n",
      "[[0. 0. 0.]\n",
      " [0. 0. 0.]]\n",
      "[[1. 1. 1.]\n",
      " [1. 1. 1.]\n",
      " [0. 0. 0.]\n",
      " [0. 0. 0.]]\n"
     ]
    }
   ],
   "source": [
    "# 60. Vertically stack the arrays a = np.ones((2,3)) and b = np.zeros((2,3)).\n",
    "a = np.ones((2, 3))\n",
    "b = np.zeros((2, 3))\n",
    "stacked_array = np.vstack((a, b))\n",
    "print(a)\n",
    "print(b)\n",
    "print(stacked_array)"
   ]
  },
  {
   "cell_type": "code",
   "execution_count": 19,
   "id": "7fcf4135",
   "metadata": {},
   "outputs": [
    {
     "name": "stdout",
     "output_type": "stream",
     "text": [
      "[[1. 1. 1. 0. 0. 0.]\n",
      " [1. 1. 1. 0. 0. 0.]]\n"
     ]
    }
   ],
   "source": [
    "# 61. Horizontally stack the arrays a and b.\n",
    "stacked_array_h = np.hstack((a, b))\n",
    "print(stacked_array_h)"
   ]
  },
  {
   "cell_type": "code",
   "execution_count": 21,
   "id": "fded6170",
   "metadata": {},
   "outputs": [
    {
     "name": "stdout",
     "output_type": "stream",
     "text": [
      "[[1. 1. 1.]\n",
      " [1. 1. 1.]\n",
      " [0. 0. 0.]\n",
      " [0. 0. 0.]]\n"
     ]
    }
   ],
   "source": [
    "# 62. Use np.concatenate to achieve the same result as vstack with a and b. \n",
    "a = np.ones((2, 3))\n",
    "b = np.zeros((2, 3))\n",
    "concatenated_array = np.concatenate((a, b), axis=0)\n",
    "print(concatenated_array)"
   ]
  },
  {
   "cell_type": "code",
   "execution_count": 24,
   "id": "4d971069",
   "metadata": {},
   "outputs": [
    {
     "name": "stdout",
     "output_type": "stream",
     "text": [
      "[array([0, 1]), array([2, 3]), array([4, 5]), array([6, 7]), array([8, 9])]\n"
     ]
    }
   ],
   "source": [
    "# 63. Split the array arr = np.arange(10) into 5 equal sub-arrays. \n",
    "arr = np.arange(10)\n",
    "sub_arrays = np.split(arr, 5)\n",
    "print(sub_arrays)"
   ]
  },
  {
   "cell_type": "code",
   "execution_count": 25,
   "id": "ad6d97ec",
   "metadata": {},
   "outputs": [
    {
     "name": "stdout",
     "output_type": "stream",
     "text": [
      "[array([[ 0,  1],\n",
      "       [ 4,  5],\n",
      "       [ 8,  9],\n",
      "       [12, 13]]), array([[ 2,  3],\n",
      "       [ 6,  7],\n",
      "       [10, 11],\n",
      "       [14, 15]])]\n"
     ]
    }
   ],
   "source": [
    "# 64. Split the 2D array matrix = np.arange(16).reshape(4,4) horizontally into 2 equal arrays.\n",
    "matrix = np.arange(16).reshape(4, 4)\n",
    "horizontally_split = np.hsplit(matrix, 2)\n",
    "print(horizontally_split) "
   ]
  },
  {
   "cell_type": "code",
   "execution_count": 26,
   "id": "e6bc2574",
   "metadata": {},
   "outputs": [
    {
     "name": "stdout",
     "output_type": "stream",
     "text": [
      "[ 1  2 99  3  4]\n"
     ]
    }
   ],
   "source": [
    "# 65. Insert the value 99 at index 2 in the 1D array arr = np.array([1,2,3,4]).\n",
    "arr = np.array([1, 2, 3, 4])\n",
    "inserted_array = np.insert(arr, 2, 99)\n",
    "print(inserted_array)"
   ]
  },
  {
   "cell_type": "code",
   "execution_count": 27,
   "id": "891ac79c",
   "metadata": {},
   "outputs": [
    {
     "name": "stdout",
     "output_type": "stream",
     "text": [
      "[1 2 3 4 5]\n"
     ]
    }
   ],
   "source": [
    "# 66. Add the value 5 to the end of array arr. \n",
    "arr = np.array([1, 2, 3, 4])\n",
    "appended_arr = np.append(arr, 5)\n",
    "print(appended_arr)"
   ]
  },
  {
   "cell_type": "code",
   "execution_count": 28,
   "id": "49680b25",
   "metadata": {},
   "outputs": [
    {
     "name": "stdout",
     "output_type": "stream",
     "text": [
      "[1 2 3 4 5]\n"
     ]
    }
   ],
   "source": [
    "# 67.  Get the unique values from the array arr = np.array([1,1,2,3,3,3,4,5]).\n",
    "arr = np.array([1, 1, 2, 3, 3, 3, 4, 5])\n",
    "unique_values = np.unique(arr)\n",
    "print(unique_values) "
   ]
  },
  {
   "cell_type": "code",
   "execution_count": 29,
   "id": "b2182ffe",
   "metadata": {},
   "outputs": [
    {
     "name": "stdout",
     "output_type": "stream",
     "text": [
      "[1 2 3 1 2 3 1 2 3]\n"
     ]
    }
   ],
   "source": [
    "# 68. Repeat the array [1,2,3] three times to get [1,2,3,1,2,3,1,2,3]. \n",
    "arr = np.array([1, 2, 3])\n",
    "print(np.tile(arr, 3))"
   ]
  },
  {
   "cell_type": "code",
   "execution_count": 30,
   "id": "ca141d82",
   "metadata": {},
   "outputs": [
    {
     "name": "stdout",
     "output_type": "stream",
     "text": [
      "[1 1 1 2 2 2 3 3 3]\n"
     ]
    }
   ],
   "source": [
    "# 69. Repeat each element of [1,2,3] three times to get [1,1,1,2,2,2,3,3,3].\n",
    "arr = np.array([1, 2, 3])\n",
    "print(np.repeat(arr, 3))"
   ]
  },
  {
   "cell_type": "code",
   "execution_count": null,
   "id": "ae7fa30d",
   "metadata": {},
   "outputs": [
    {
     "name": "stdout",
     "output_type": "stream",
     "text": [
      "[3 2 1]\n"
     ]
    }
   ],
   "source": [
    "# 70. Flip an array horizontally (left to right). \n",
    "arr = np.array([1, 2, 3])\n",
    "print(np.flip(arr))\n",
    "\n",
    "# np.flipud() is shorthand for flipping up-down (axis=0).\n",
    "# np.fliplr() flips left-right (axis=1)."
   ]
  },
  {
   "cell_type": "markdown",
   "id": "a8714ff7",
   "metadata": {},
   "source": [
    "### Broadcasting & Conditional Logic "
   ]
  },
  {
   "cell_type": "code",
   "execution_count": 33,
   "id": "60902899",
   "metadata": {},
   "outputs": [
    {
     "name": "stdout",
     "output_type": "stream",
     "text": [
      "[[2. 3. 4.]\n",
      " [2. 3. 4.]\n",
      " [2. 3. 4.]\n",
      " [2. 3. 4.]]\n"
     ]
    },
    {
     "data": {
      "text/plain": [
       "'Broadcasting is a powerful NumPy feature that allows arrays of different shapes to be combined in arithmetic operations. \\nInstead of manually reshaping or looping, NumPy automatically expands the smaller array to match the shape of the larger one—without \\ncopying data unnecessarily.'"
      ]
     },
     "execution_count": 33,
     "metadata": {},
     "output_type": "execute_result"
    }
   ],
   "source": [
    "# 71. Add a 1D array v = np.array([1, 2, 3]) to each row of a 2D array M = np.ones((4,3)). What is this concept called?\n",
    "v = np.array([1, 2, 3])\n",
    "M = np.ones((4, 3))\n",
    "print(M + v) # Broadcasting \n",
    "\n",
    "\"\"\"Broadcasting is a powerful NumPy feature that allows arrays of different shapes to be combined in arithmetic operations. \n",
    "Instead of manually reshaping or looping, NumPy automatically expands the smaller array to match the shape of the larger one—without \n",
    "copying data unnecessarily.\"\"\""
   ]
  },
  {
   "cell_type": "code",
   "execution_count": 34,
   "id": "a547949e",
   "metadata": {},
   "outputs": [
    {
     "name": "stdout",
     "output_type": "stream",
     "text": [
      "[[11 22 33]\n",
      " [14 25 36]\n",
      " [17 28 39]]\n"
     ]
    }
   ],
   "source": [
    "# 72. Can you add a (3,3) matrix and a (3,) vector? If so, how does it work?\n",
    "A = np.array([[1, 2, 3],\n",
    "              [4, 5, 6],\n",
    "              [7, 8, 9]])   # shape: (3:3)\n",
    "v = np.array([10, 20, 30])  # shape: (3, )\n",
    "\n",
    "print(A + v)  # Broadcasting"
   ]
  },
  {
   "cell_type": "code",
   "execution_count": 35,
   "id": "39700ba6",
   "metadata": {},
   "outputs": [
    {
     "name": "stdout",
     "output_type": "stream",
     "text": [
      "[[11 12 13]\n",
      " [24 25 26]\n",
      " [37 38 39]]\n"
     ]
    }
   ],
   "source": [
    "# 73. Can you add a (3,3) matrix and a (3,1) matrix? \n",
    "A = np.array([[1, 2, 3],\n",
    "              [4, 5, 6],\n",
    "              [7, 8, 9]])   # shape: (3:3)\n",
    "\n",
    "B = np.array([[10],\n",
    "              [20],\n",
    "              [30]]) #shape: (3:1)\n",
    "\n",
    "print(A + B)  # Broadcasting"
   ]
  },
  {
   "cell_type": "code",
   "execution_count": null,
   "id": "ef4b706b",
   "metadata": {},
   "outputs": [
    {
     "name": "stdout",
     "output_type": "stream",
     "text": [
      "[0 0 0 0 0 5 6 7 8 9]\n"
     ]
    }
   ],
   "source": [
    "# 74. Create a 1D array arr = np.arange(10). Use np.where to create a new array where values are 0 \n",
    "# if the original value was less than 5, and the original value otherwise.\n",
    "arr = np.arange(10)\n",
    "print(np.where(arr < 5, 0, arr)) #np.where(condition, value_if_true, value_if_false)\n"
   ]
  },
  {
   "cell_type": "code",
   "execution_count": 37,
   "id": "a7440c0b",
   "metadata": {},
   "outputs": [
    {
     "name": "stdout",
     "output_type": "stream",
     "text": [
      "[0 1 0 1 0 1 0 1 0 1]\n"
     ]
    }
   ],
   "source": [
    "# 75. Use np.where to create a new array from arr where even numbers are replaced by 0 and odd numbers by 1.\n",
    "arr = np.arange(10)\n",
    "print(np.where(arr % 2 == 0, 0, 1))"
   ]
  },
  {
   "cell_type": "code",
   "execution_count": 38,
   "id": "2ed26a8a",
   "metadata": {},
   "outputs": [
    {
     "name": "stdout",
     "output_type": "stream",
     "text": [
      "[[50 33 14 14 20]\n",
      " [50 48 31 50  5]\n",
      " [14 28 50 16  8]\n",
      " [50 50 48 44 50]\n",
      " [50 48 50 50 50]]\n"
     ]
    }
   ],
   "source": [
    "# 76. Create a 5x5 array of random integers. Use np.where to replace all values greater than 50 with the value 50.\n",
    "arr = np.random.randint(0, 100, size=(5, 5))\n",
    "print(np.where(arr > 50, 50, arr)) "
   ]
  },
  {
   "cell_type": "code",
   "execution_count": null,
   "id": "7ec3d9e2",
   "metadata": {},
   "outputs": [
    {
     "name": "stdout",
     "output_type": "stream",
     "text": [
      "[ 1  2  9 10]\n"
     ]
    }
   ],
   "source": [
    "# 77. Create a 1D array from 1 to 10. Extract all numbers that are either less than 3 or greater than 8. \n",
    "arr = np.arange(1, 11) # Creates an array [1, 2, ..., 10]\n",
    "filtered_arr = arr[(arr < 3) | (arr > 8)] # OR |\n",
    "print(filtered_arr)\n"
   ]
  },
  {
   "cell_type": "code",
   "execution_count": 41,
   "id": "c174fb9c",
   "metadata": {},
   "outputs": [
    {
     "name": "stdout",
     "output_type": "stream",
     "text": [
      "[[11 21 31 41 51]\n",
      " [12 22 32 42 52]\n",
      " [13 23 33 43 53]\n",
      " [14 24 34 44 54]]\n"
     ]
    }
   ],
   "source": [
    "# 78. What will be the result of adding a (4,1) array to a (1,5) array? \n",
    "# The result will be a (4,5) array where each element is the sum of the corresponding elements from the (4,1) and (1,5) arrays. \n",
    "# This is due to broadcasting, where the (4,1) array is broadcasted across\n",
    "A = np.array([[1], \n",
    "              [2], \n",
    "              [3], \n",
    "              [4]]) # shape (4,1)\n",
    "B = np.array([[10, 20, 30, 40, 50]]) # shape (1,5)\n",
    "\n",
    "result = A + B\n",
    "print(result)"
   ]
  },
  {
   "cell_type": "code",
   "execution_count": 45,
   "id": "ffae8399",
   "metadata": {},
   "outputs": [
    {
     "name": "stdout",
     "output_type": "stream",
     "text": [
      "Original Matrix:\n",
      " [[0.98273584 0.03506038 0.50828337 0.92635095 0.4807918 ]\n",
      " [0.05209147 0.95823492 0.2268706  0.70908309 0.00994045]\n",
      " [0.30912734 0.6919203  0.90879942 0.61133656 0.68333772]\n",
      " [0.22156362 0.70238115 0.74941854 0.2931858  0.9337336 ]\n",
      " [0.57790374 0.85431004 0.54273699 0.42413049 0.81363356]]\n",
      "\n",
      "Normalized Matrix:\n",
      " [[ 1.85114777 -1.64794996  0.0993291   1.6429581  -0.00217789]\n",
      " [-1.58506614  1.76068311 -0.93972996  0.84074098 -1.74070014]\n",
      " [-0.63601379  0.7773709   1.57815266  0.47983193  0.74568145]\n",
      " [-0.95932491  0.81599543  0.98967138 -0.69487465  1.670217  ]\n",
      " [ 0.35638806  1.37696175  0.22654203 -0.21138818  1.22677218]]\n"
     ]
    }
   ],
   "source": [
    "# 79. Normalize a 5x5 random matrix (subtract the mean and divide by the standard deviation). \n",
    "matrix = np.random.rand(5, 5)\n",
    "\n",
    "# Compute the mean and standard deviation of the entire matrix.\n",
    "mean = np.mean(arr)\n",
    "std = np.std(arr)\n",
    "\n",
    "#normalize: subtract mean and divide by std\n",
    "normalized = (matrix - mean) / std\n",
    "\n",
    "print(\"Original Matrix:\\n\", matrix)\n",
    "print(\"\\nNormalized Matrix:\\n\", normalized)"
   ]
  },
  {
   "cell_type": "code",
   "execution_count": 46,
   "id": "ab0221e6",
   "metadata": {},
   "outputs": [
    {
     "name": "stdout",
     "output_type": "stream",
     "text": [
      "[[1 2 3]\n",
      " [1 2 3]\n",
      " [1 2 3]\n",
      " [1 2 3]]\n"
     ]
    }
   ],
   "source": [
    "# 80. Given a 1D array, create a 2D array where each row is a copy of the original array.\n",
    "# Using np.tile\n",
    "arr = np.array([1, 2, 3])\n",
    "rows = 4\n",
    "\n",
    "result = np.tile(arr, (rows, 1))\n",
    "print(result)"
   ]
  },
  {
   "cell_type": "code",
   "execution_count": 47,
   "id": "46d36305",
   "metadata": {},
   "outputs": [
    {
     "name": "stdout",
     "output_type": "stream",
     "text": [
      "[[1. 2. 3.]\n",
      " [1. 2. 3.]\n",
      " [1. 2. 3.]\n",
      " [1. 2. 3.]]\n"
     ]
    }
   ],
   "source": [
    "arr = np.array([1, 2, 3])\n",
    "rows = 4\n",
    "\n",
    "result = np.zeros((rows, arr.size)) + arr\n",
    "print(result)"
   ]
  },
  {
   "cell_type": "markdown",
   "id": "132ddeff",
   "metadata": {},
   "source": [
    "### Statistics, Sorting, & Searching "
   ]
  },
  {
   "cell_type": "code",
   "execution_count": 4,
   "id": "bb54fed2",
   "metadata": {},
   "outputs": [
    {
     "name": "stdout",
     "output_type": "stream",
     "text": [
      "[ 3  5  5 10  5  5  5  3  7 10]\n",
      "[ 3  3  5  5  5  5  5  7 10 10]\n"
     ]
    }
   ],
   "source": [
    "# 81. Create a 1D array of 10 random integers and sort it in ascending order. \n",
    "arr = np.random.randint(0, 11, size=10)\n",
    "print(arr)\n",
    "sorted_arr = np.sort(arr)\n",
    "print(sorted_arr)\n"
   ]
  },
  {
   "cell_type": "code",
   "execution_count": 8,
   "id": "464732cf",
   "metadata": {},
   "outputs": [
    {
     "name": "stdout",
     "output_type": "stream",
     "text": [
      "Original: [3 1 4 2]\n",
      "Sorted copy: [1 2 3 4]\n",
      "Modified original: [1 2 3 4]\n"
     ]
    }
   ],
   "source": [
    "# 82. What is the difference between np.sort(arr) and arr.sort()? Explain with an example. \n",
    "# np.sort(arr) returns a sorted copy of the array, leaving the original array unchanged.\n",
    "arr = np.array([3, 1, 4, 2])\n",
    "\n",
    "# np.sort returns a new sorted array\n",
    "sorted_arr = np.sort(arr)\n",
    "print(\"Original:\", arr)         # [3 1 4 2]\n",
    "print(\"Sorted copy:\", sorted_arr)  # [1 2 3 4]\n",
    "\n",
    "# arr.sort modifies the array in-place\n",
    "arr.sort()\n",
    "print(\"Modified original:\", arr)   # [1 2 3 4]"
   ]
  },
  {
   "cell_type": "code",
   "execution_count": null,
   "id": "234eb597",
   "metadata": {},
   "outputs": [
    {
     "name": "stdout",
     "output_type": "stream",
     "text": [
      "[1 3 0 2]\n"
     ]
    }
   ],
   "source": [
    "# 83. Find the indices that would sort the array arr = np.array([3, 1, 4, 2]). \n",
    "arr = np.array([3, 1, 4, 2])\n",
    "argsort_arr = np.argsort(arr)\n",
    "print(argsort_arr)\n",
    "#It returns the indices that would sort an array. Instead of giving you the sorted values, it tells you where each value would go if you sorted the array."
   ]
  },
  {
   "cell_type": "code",
   "execution_count": 10,
   "id": "d6d3a2b9",
   "metadata": {},
   "outputs": [
    {
     "name": "stdout",
     "output_type": "stream",
     "text": [
      "2\n"
     ]
    }
   ],
   "source": [
    "# 84. Find the index of the maximum value in arr.\n",
    "arr = np.array([3, 1, 4, 2])\n",
    "maxargsort = np.argmax(arr)\n",
    "print(maxargsort)"
   ]
  },
  {
   "cell_type": "code",
   "execution_count": 11,
   "id": "08bb42fe",
   "metadata": {},
   "outputs": [
    {
     "name": "stdout",
     "output_type": "stream",
     "text": [
      "1\n"
     ]
    }
   ],
   "source": [
    "# 85. Find the index of the minimum value in arr.\n",
    "arr = np.array([3, 1, 4, 2])\n",
    "maxargsort = np.argmin(arr)\n",
    "print(maxargsort) "
   ]
  },
  {
   "cell_type": "code",
   "execution_count": 17,
   "id": "0b3735ee",
   "metadata": {},
   "outputs": [
    {
     "name": "stdout",
     "output_type": "stream",
     "text": [
      "[[ 0  1  2  3]\n",
      " [ 4  5  6  7]\n",
      " [ 8  9 10 11]]\n",
      "[2 2 2 2]\n"
     ]
    }
   ],
   "source": [
    "# 86. In a 2D array, find the index of the maximum value in each column.\n",
    "arr = np.arange(12).reshape(3, 4)\n",
    "max_column = np.argmax(arr, axis=0)\n",
    "print(arr)\n",
    "print(max_column) "
   ]
  },
  {
   "cell_type": "code",
   "execution_count": 21,
   "id": "4dd28b49",
   "metadata": {},
   "outputs": [
    {
     "name": "stdout",
     "output_type": "stream",
     "text": [
      "Unique values: [1 2 3]\n",
      "Counts: [2 2 3]\n"
     ]
    }
   ],
   "source": [
    "# 87.  Find the unique values and their counts in the array arr = np.array([1, 2, 2, 3, 3, 3, 1]).\n",
    "arr = np.array([1, 2, 2, 3, 3, 3, 1])\n",
    "unique_values, counts = np.unique(arr, return_counts=True)\n",
    "print(\"Unique values:\", unique_values)\n",
    "print(\"Counts:\", counts) "
   ]
  },
  {
   "cell_type": "code",
   "execution_count": 22,
   "id": "0379d433",
   "metadata": {},
   "outputs": [
    {
     "name": "stdout",
     "output_type": "stream",
     "text": [
      "[2 3]\n"
     ]
    }
   ],
   "source": [
    "# 88. Find the common elements between two arrays a = np.array([1,2,3]) and b = np.array([2,3,4]).\n",
    "a = np.array([1, 2, 3])\n",
    "b = np.array([2, 3, 4])\n",
    "common_elements = np.intersect1d(a, b)\n",
    "print(common_elements)"
   ]
  },
  {
   "cell_type": "code",
   "execution_count": 23,
   "id": "ec3c5e77",
   "metadata": {},
   "outputs": [
    {
     "name": "stdout",
     "output_type": "stream",
     "text": [
      "[1]\n"
     ]
    }
   ],
   "source": [
    "# 89. Find the elements in a that are not in b.\n",
    "a = np.array([1, 2, 3])\n",
    "b = np.array([2, 3, 4])\n",
    "unique_to_a = np.setdiff1d(a, b)\n",
    "print(unique_to_a)"
   ]
  },
  {
   "cell_type": "code",
   "execution_count": null,
   "id": "365c1608",
   "metadata": {},
   "outputs": [
    {
     "name": "stdout",
     "output_type": "stream",
     "text": [
      "Sorted array:\n",
      " [[20  1]\n",
      " [30  2]\n",
      " [10  3]]\n"
     ]
    }
   ],
   "source": [
    "# 90. Sort a 2D array based on its second column. Use argsort on the second column, then use the resulting indices to sort the full array. \n",
    "arr = np.array([[10, 3],\n",
    "                [20, 1],\n",
    "                [30, 2]])\n",
    "\n",
    "# Step 1: Get the indices that would sort the second column\n",
    "sort_indices = np.argsort(arr[:, 1])\n",
    "\n",
    "# Step 2: Use those indices to sort the entire array\n",
    "sorted_arr = arr[sort_indices]\n",
    "\n",
    "print(\"Sorted array:\\n\", sorted_arr)"
   ]
  },
  {
   "cell_type": "code",
   "execution_count": 26,
   "id": "8ac00ad9",
   "metadata": {},
   "outputs": [
    {
     "name": "stdout",
     "output_type": "stream",
     "text": [
      "0.34138184789162973\n",
      "0.34138184789162973\n"
     ]
    }
   ],
   "source": [
    "# 91. Find the 50th percentile (median) of a random array.\n",
    "arr = np.random.rand(10)\n",
    "percentile = np.percentile(arr, 50)\n",
    "median = np.median(arr)\n",
    "print(percentile)\n",
    "print(median)"
   ]
  },
  {
   "cell_type": "code",
   "execution_count": null,
   "id": "aacf0b67",
   "metadata": {},
   "outputs": [
    {
     "name": "stdout",
     "output_type": "stream",
     "text": [
      "[0.39540989 0.88639486]\n"
     ]
    }
   ],
   "source": [
    "# 92. Find the 25th and 75th percentiles of an array. \n",
    "arr = np.random.rand(10)\n",
    "percentile = np.percentile(arr, [25, 75])\n",
    "print(percentile)"
   ]
  },
  {
   "cell_type": "code",
   "execution_count": 28,
   "id": "7c28017b",
   "metadata": {},
   "outputs": [
    {
     "name": "stdout",
     "output_type": "stream",
     "text": [
      "(array([0, 2, 4], dtype=int64),)\n"
     ]
    }
   ],
   "source": [
    "# 93. Find all non-zero elements in the array [1, 0, 2, 0, 3].\n",
    "arr = np.array([1, 0, 2, 0, 3])\n",
    "non_zero = np.nonzero(arr)\n",
    "print(non_zero)"
   ]
  },
  {
   "cell_type": "code",
   "execution_count": 29,
   "id": "e4e0392f",
   "metadata": {},
   "outputs": [
    {
     "name": "stdout",
     "output_type": "stream",
     "text": [
      "Presence mask: [False  True False  True]\n",
      "Matching elements: [2 4]\n"
     ]
    }
   ],
   "source": [
    "# 94. Check which elements of array a are present in array b.\n",
    "\n",
    "a = np.array([1, 2, 3, 4])\n",
    "b = np.array([2, 4, 6])\n",
    "\n",
    "# Check which elements of a are in b\n",
    "mask = np.in1d(a, b)\n",
    "\n",
    "print(\"Presence mask:\", mask)\n",
    "print(\"Matching elements:\", a[mask])"
   ]
  },
  {
   "cell_type": "code",
   "execution_count": 30,
   "id": "af34eff4",
   "metadata": {},
   "outputs": [
    {
     "name": "stdout",
     "output_type": "stream",
     "text": [
      "Top 3 largest values: [5 7 9]\n"
     ]
    }
   ],
   "source": [
    "# 95. Find the top 3 largest values from a 1D array. \n",
    "arr = np.array([5, 1, 9, 3, 7, 2])\n",
    "top3 = np.sort(arr)[-3:]\n",
    "\n",
    "print(\"Top 3 largest values:\", top3)"
   ]
  },
  {
   "cell_type": "code",
   "execution_count": 31,
   "id": "6db562af",
   "metadata": {},
   "outputs": [
    {
     "name": "stdout",
     "output_type": "stream",
     "text": [
      "Top 3 (unsorted): [5 7 9]\n"
     ]
    }
   ],
   "source": [
    "top3_indices = np.argpartition(arr, -3)[-3:]\n",
    "top3_unsorted = arr[top3_indices]\n",
    "\n",
    "print(\"Top 3 (unsorted):\", top3_unsorted)"
   ]
  },
  {
   "cell_type": "code",
   "execution_count": 32,
   "id": "d511a454",
   "metadata": {},
   "outputs": [
    {
     "name": "stdout",
     "output_type": "stream",
     "text": [
      "Top 3 sorted: [9 7 5]\n",
      "Indices: [2 4 0]\n"
     ]
    }
   ],
   "source": [
    "sorted_indices = arr.argsort()[-3:][::-1]\n",
    "top3_sorted = arr[sorted_indices]\n",
    "\n",
    "print(\"Top 3 sorted:\", top3_sorted)\n",
    "print(\"Indices:\", sorted_indices)"
   ]
  },
  {
   "cell_type": "markdown",
   "id": "5d83858a",
   "metadata": {},
   "source": [
    "### Practical Applications (Linear Algebra & I/O) "
   ]
  },
  {
   "cell_type": "code",
   "execution_count": 35,
   "id": "5c784d9b",
   "metadata": {},
   "outputs": [
    {
     "name": "stdout",
     "output_type": "stream",
     "text": [
      "[[19 22]\n",
      " [43 50]]\n",
      "[[19 22]\n",
      " [43 50]]\n"
     ]
    }
   ],
   "source": [
    "# 96. Create a 2x2 matrix A and a 2x2 matrix B. Perform matrix multiplication.\n",
    "A = np.array([[1, 2],\n",
    "              [3, 4]])\n",
    "B = np.array([[5, 6],\n",
    "              [7, 8]])\n",
    "c = np.matmul(A, B)\n",
    "d = A @ B\n",
    "print(c)\n",
    "print(d)"
   ]
  },
  {
   "cell_type": "code",
   "execution_count": 36,
   "id": "57ab3285",
   "metadata": {},
   "outputs": [
    {
     "name": "stdout",
     "output_type": "stream",
     "text": [
      "[[-2.   1. ]\n",
      " [ 1.5 -0.5]]\n"
     ]
    }
   ],
   "source": [
    "# 97. Find the inverse of matrix A. \n",
    "A = np.array([[1, 2],\n",
    "              [3, 4]])\n",
    "\n",
    "arr = np.linalg.inv(A)\n",
    "print(arr)"
   ]
  },
  {
   "cell_type": "code",
   "execution_count": 37,
   "id": "a19a5964",
   "metadata": {},
   "outputs": [
    {
     "name": "stdout",
     "output_type": "stream",
     "text": [
      "-1.999999999999999\n"
     ]
    }
   ],
   "source": [
    "# 98. Find the determinant of matrix B. \n",
    "B = np.array([[5, 6],\n",
    "              [7, 8]])\n",
    "\n",
    "arr = np.linalg.det(B)\n",
    "print(arr)"
   ]
  },
  {
   "cell_type": "code",
   "execution_count": null,
   "id": "e495385c",
   "metadata": {},
   "outputs": [],
   "source": [
    "# 99. Save a NumPy array to a binary file named my_array.npy. \n",
    "my_array = np.array([[1, 2, 3],\n",
    "                     [4, 5, 6]])\n",
    "\n",
    "# Save it to a binary file\n",
    "np.save('my_array.npy', my_array)"
   ]
  },
  {
   "cell_type": "code",
   "execution_count": null,
   "id": "72d68547",
   "metadata": {},
   "outputs": [],
   "source": [
    "# 100. Load the array from my_array.npy. \n",
    "loaded_array = np.load('my_array.npy')\n",
    "\n",
    "print(\"Loaded array:\\n\", loaded_array)"
   ]
  },
  {
   "cell_type": "code",
   "execution_count": 38,
   "id": "392106c4",
   "metadata": {},
   "outputs": [],
   "source": [
    "# 101. Save a 2D array to a text file my_matrix.csv with comma-separated values.\n",
    "my_matrix = np.array([[1, 2, 3],\n",
    "                      [4, 5, 6]])\n",
    "\n",
    "# Save to CSV file with comma-separated values\n",
    "np.savetxt('my_matrix.csv', my_matrix, delimiter=',', fmt='%d') "
   ]
  },
  {
   "cell_type": "code",
   "execution_count": null,
   "id": "cf974625",
   "metadata": {},
   "outputs": [],
   "source": []
  }
 ],
 "metadata": {
  "kernelspec": {
   "display_name": "base",
   "language": "python",
   "name": "python3"
  },
  "language_info": {
   "codemirror_mode": {
    "name": "ipython",
    "version": 3
   },
   "file_extension": ".py",
   "mimetype": "text/x-python",
   "name": "python",
   "nbconvert_exporter": "python",
   "pygments_lexer": "ipython3",
   "version": "3.12.7"
  }
 },
 "nbformat": 4,
 "nbformat_minor": 5
}
