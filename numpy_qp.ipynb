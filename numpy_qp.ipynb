{
 "cells": [
  {
   "cell_type": "markdown",
   "id": "2e110109",
   "metadata": {},
   "source": [
    "### Array creation and attributes using NumPy"
   ]
  },
  {
   "cell_type": "code",
   "execution_count": 1,
   "id": "4bc53138",
   "metadata": {},
   "outputs": [],
   "source": [
    "# 1. Import the Numpy library with the alias 'np'.\n",
    "import numpy as np"
   ]
  },
  {
   "cell_type": "code",
   "execution_count": 3,
   "id": "5ba956f1",
   "metadata": {},
   "outputs": [
    {
     "name": "stdout",
     "output_type": "stream",
     "text": [
      "[1 2 3 4 5]\n"
     ]
    }
   ],
   "source": [
    "# 2. Create a 1D numpy array from the python list [1, 2, 3, 4, 5].\n",
    "array_id = np.array([1, 2, 3, 4, 5])\n",
    "print(array_id)"
   ]
  },
  {
   "cell_type": "code",
   "execution_count": 16,
   "id": "c9b2e5f2",
   "metadata": {},
   "outputs": [
    {
     "name": "stdout",
     "output_type": "stream",
     "text": [
      "[0 0 0 0 0 0 0 0 0 0]\n"
     ]
    }
   ],
   "source": [
    "# 3. Create a 1D arrays of 10 zeros.\n",
    "array_zeros = np.zeros(10, dtype=int)\n",
    "print(array_zeros)"
   ]
  },
  {
   "cell_type": "code",
   "execution_count": 13,
   "id": "99f4d8b5",
   "metadata": {},
   "outputs": [
    {
     "name": "stdout",
     "output_type": "stream",
     "text": [
      "[[1 1 1]\n",
      " [1 1 1]\n",
      " [1 1 1]]\n"
     ]
    }
   ],
   "source": [
    "# 4. Create a 3 x 3 array filled with ones.\n",
    "array_ones = np.ones((3, 3), dtype=int)\n",
    "print(array_ones)"
   ]
  },
  {
   "cell_type": "code",
   "execution_count": 18,
   "id": "d66d759b",
   "metadata": {},
   "outputs": [
    {
     "name": "stdout",
     "output_type": "stream",
     "text": [
      "[10 12 14 16 18 20 22 24 26 28 30 32 34 36 38 40 42 44 46 48 50]\n"
     ]
    }
   ],
   "source": [
    "# 5. Create an array of all even integers from 10 to 50.\n",
    "array_even = np.arange(10, 51, 2)\n",
    "print(array_even)\n"
   ]
  },
  {
   "cell_type": "code",
   "execution_count": 19,
   "id": "f0dc69ad",
   "metadata": {},
   "outputs": [
    {
     "name": "stdout",
     "output_type": "stream",
     "text": [
      "[[0 1 2]\n",
      " [3 4 5]\n",
      " [6 7 8]]\n"
     ]
    }
   ],
   "source": [
    "# 6. Create a 3X3 matrix with values ranging from 0 to 8.\n",
    "matrix_3x3 = np.arange(9).reshape(3, 3)\n",
    "print(matrix_3x3)"
   ]
  },
  {
   "cell_type": "code",
   "execution_count": 20,
   "id": "b0c36dd3",
   "metadata": {},
   "outputs": [
    {
     "name": "stdout",
     "output_type": "stream",
     "text": [
      "[[1 0 0 0]\n",
      " [0 1 0 0]\n",
      " [0 0 1 0]\n",
      " [0 0 0 1]]\n"
     ]
    }
   ],
   "source": [
    "# 7. Create 4x4 identity matrix.\n",
    "identity_matrix = np.eye(4, dtype=int)\n",
    "print(identity_matrix)"
   ]
  },
  {
   "cell_type": "code",
   "execution_count": 22,
   "id": "42a6f593",
   "metadata": {},
   "outputs": [
    {
     "name": "stdout",
     "output_type": "stream",
     "text": [
      "[0.   0.25 0.5  0.75 1.  ]\n"
     ]
    }
   ],
   "source": [
    "# 8. Create an array of 5 numbers evenly spaced between 0 and 1.\n",
    "array_linspace = np.linspace(0, 1, 5)\n",
    "print(array_linspace)"
   ]
  },
  {
   "cell_type": "code",
   "execution_count": 23,
   "id": "26ad266d",
   "metadata": {},
   "outputs": [
    {
     "name": "stdout",
     "output_type": "stream",
     "text": [
      "[[0.59188404 0.38132965 0.7508258  0.03925646]\n",
      " [0.74829948 0.16012904 0.05715558 0.18332562]\n",
      " [0.53103049 0.63440179 0.35763802 0.06007654]]\n"
     ]
    }
   ],
   "source": [
    "# 9. Create a 3x4 array filled with random numbers between 0 and 1.\n",
    "random_array = np.random.rand(3, 4)\n",
    "print(random_array)  "
   ]
  },
  {
   "cell_type": "code",
   "execution_count": 26,
   "id": "05b0829a",
   "metadata": {},
   "outputs": [
    {
     "name": "stdout",
     "output_type": "stream",
     "text": [
      "[[96 11 76 16 57]\n",
      " [61 43 27 57  2]\n",
      " [65 63 21 37 15]\n",
      " [86 30 93 88 36]\n",
      " [85 34 45 41 46]]\n"
     ]
    }
   ],
   "source": [
    "# 10. Create a 5x5 array with random integers from 1 to 100.\n",
    "random_array = np.random.randint(1, 101, size=(5, 5))\n",
    "print(random_array) "
   ]
  },
  {
   "cell_type": "code",
   "execution_count": 28,
   "id": "600c9548",
   "metadata": {},
   "outputs": [
    {
     "name": "stdout",
     "output_type": "stream",
     "text": [
      "[[ 0  1  2  3  4]\n",
      " [ 5  6  7  8  9]\n",
      " [10 11 12 13 14]\n",
      " [15 16 17 18 19]\n",
      " [20 21 22 23 24]]\n",
      "(5, 5)\n"
     ]
    }
   ],
   "source": [
    "# 11. Given the array arr = np.arange(25).reshape(5, 5), find its shape. \n",
    "arr = np.arange(25).reshape(5, 5)\n",
    "print(arr)\n",
    "print(arr.shape)"
   ]
  },
  {
   "cell_type": "code",
   "execution_count": 31,
   "id": "93926eab",
   "metadata": {},
   "outputs": [
    {
     "name": "stdout",
     "output_type": "stream",
     "text": [
      "int32\n"
     ]
    }
   ],
   "source": [
    "# 12. for the same array, find its data type.\n",
    "print(arr.dtype)"
   ]
  },
  {
   "cell_type": "code",
   "execution_count": 32,
   "id": "9273e89d",
   "metadata": {},
   "outputs": [
    {
     "name": "stdout",
     "output_type": "stream",
     "text": [
      "25\n"
     ]
    }
   ],
   "source": [
    "# 13. For the same array arr, find the total number of elements.\n",
    "print(arr.size)"
   ]
  },
  {
   "cell_type": "code",
   "execution_count": 33,
   "id": "c60e9a34",
   "metadata": {},
   "outputs": [
    {
     "name": "stdout",
     "output_type": "stream",
     "text": [
      "[1. 2. 3.]\n"
     ]
    }
   ],
   "source": [
    "# 14. Create the array [1, 2, 3] but make sure its data type is float. \n",
    "array_float = np.array([1, 2, 3], dtype=float)\n",
    "print(array_float)"
   ]
  },
  {
   "cell_type": "code",
   "execution_count": 34,
   "id": "104db9a8",
   "metadata": {},
   "outputs": [
    {
     "name": "stdout",
     "output_type": "stream",
     "text": [
      "[1. 2. 3. 4. 5.]\n"
     ]
    }
   ],
   "source": [
    "# 15. Convert the data type of an existing integer array to float.\n",
    "array_int = np.array([1, 2, 3, 4, 5])\n",
    "array_converted = array_int.astype(float)\n",
    "print(array_converted)"
   ]
  }
 ],
 "metadata": {
  "kernelspec": {
   "display_name": "base",
   "language": "python",
   "name": "python3"
  },
  "language_info": {
   "codemirror_mode": {
    "name": "ipython",
    "version": 3
   },
   "file_extension": ".py",
   "mimetype": "text/x-python",
   "name": "python",
   "nbconvert_exporter": "python",
   "pygments_lexer": "ipython3",
   "version": "3.12.7"
  }
 },
 "nbformat": 4,
 "nbformat_minor": 5
}
