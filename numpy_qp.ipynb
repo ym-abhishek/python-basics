{
 "cells": [
  {
   "cell_type": "markdown",
   "id": "2e110109",
   "metadata": {},
   "source": [
    "### Array creation and attributes using NumPy"
   ]
  },
  {
   "cell_type": "code",
   "execution_count": 2,
   "id": "4bc53138",
   "metadata": {},
   "outputs": [],
   "source": [
    "# 1. Import the Numpy library with the alias 'np'.\n",
    "import numpy as np"
   ]
  },
  {
   "cell_type": "code",
   "execution_count": 3,
   "id": "5ba956f1",
   "metadata": {},
   "outputs": [
    {
     "name": "stdout",
     "output_type": "stream",
     "text": [
      "[1 2 3 4 5]\n"
     ]
    }
   ],
   "source": [
    "# 2. Create a 1D numpy array from the python list [1, 2, 3, 4, 5].\n",
    "array_id = np.array([1, 2, 3, 4, 5])\n",
    "print(array_id)"
   ]
  },
  {
   "cell_type": "code",
   "execution_count": 16,
   "id": "c9b2e5f2",
   "metadata": {},
   "outputs": [
    {
     "name": "stdout",
     "output_type": "stream",
     "text": [
      "[0 0 0 0 0 0 0 0 0 0]\n"
     ]
    }
   ],
   "source": [
    "# 3. Create a 1D arrays of 10 zeros.\n",
    "array_zeros = np.zeros(10, dtype=int)\n",
    "print(array_zeros)"
   ]
  },
  {
   "cell_type": "code",
   "execution_count": 13,
   "id": "99f4d8b5",
   "metadata": {},
   "outputs": [
    {
     "name": "stdout",
     "output_type": "stream",
     "text": [
      "[[1 1 1]\n",
      " [1 1 1]\n",
      " [1 1 1]]\n"
     ]
    }
   ],
   "source": [
    "# 4. Create a 3 x 3 array filled with ones.\n",
    "array_ones = np.ones((3, 3), dtype=int)\n",
    "print(array_ones)"
   ]
  },
  {
   "cell_type": "code",
   "execution_count": null,
   "id": "d66d759b",
   "metadata": {},
   "outputs": [
    {
     "name": "stdout",
     "output_type": "stream",
     "text": [
      "[10 12 14 16 18 20 22 24 26 28 30 32 34 36 38 40 42 44 46 48 50]\n"
     ]
    }
   ],
   "source": [
    "# 5. Create an array of all even integers from 10 to 50.\n",
    "array_even = np.arange(10, 51, 2)\n",
    "print(array_even)\n",
    "# arange is as range in python, but return an array.\n"
   ]
  },
  {
   "cell_type": "code",
   "execution_count": 19,
   "id": "f0dc69ad",
   "metadata": {},
   "outputs": [
    {
     "name": "stdout",
     "output_type": "stream",
     "text": [
      "[[0 1 2]\n",
      " [3 4 5]\n",
      " [6 7 8]]\n"
     ]
    }
   ],
   "source": [
    "# 6. Create a 3X3 matrix with values ranging from 0 to 8.\n",
    "matrix_3x3 = np.arange(9).reshape(3, 3)\n",
    "print(matrix_3x3)"
   ]
  },
  {
   "cell_type": "code",
   "execution_count": null,
   "id": "b0c36dd3",
   "metadata": {},
   "outputs": [
    {
     "name": "stdout",
     "output_type": "stream",
     "text": [
      "[[1 0 0 0]\n",
      " [0 1 0 0]\n",
      " [0 0 1 0]\n",
      " [0 0 0 1]]\n"
     ]
    }
   ],
   "source": [
    "# 7. Create 4x4 identity matrix.\n",
    "identity_matrix = np.eye(4, dtype=int)\n",
    "print(identity_matrix)\n",
    "# np.eye is used to create a 2D array with ones on the diagonal and zeros elsewhere."
   ]
  },
  {
   "cell_type": "code",
   "execution_count": null,
   "id": "42a6f593",
   "metadata": {},
   "outputs": [
    {
     "name": "stdout",
     "output_type": "stream",
     "text": [
      "[0.   0.25 0.5  0.75 1.  ]\n"
     ]
    }
   ],
   "source": [
    "# 8. Create an array of 5 numbers evenly spaced between 0 and 1.\n",
    "array_linspace = np.linspace(0, 1, 5)\n",
    "print(array_linspace)\n",
    "# linspace is used to control number of elements in the array."
   ]
  },
  {
   "cell_type": "code",
   "execution_count": 23,
   "id": "26ad266d",
   "metadata": {},
   "outputs": [
    {
     "name": "stdout",
     "output_type": "stream",
     "text": [
      "[[0.59188404 0.38132965 0.7508258  0.03925646]\n",
      " [0.74829948 0.16012904 0.05715558 0.18332562]\n",
      " [0.53103049 0.63440179 0.35763802 0.06007654]]\n"
     ]
    }
   ],
   "source": [
    "# 9. Create a 3x4 array filled with random numbers between 0 and 1.\n",
    "random_array = np.random.rand(3, 4)\n",
    "print(random_array)  "
   ]
  },
  {
   "cell_type": "code",
   "execution_count": 26,
   "id": "05b0829a",
   "metadata": {},
   "outputs": [
    {
     "name": "stdout",
     "output_type": "stream",
     "text": [
      "[[96 11 76 16 57]\n",
      " [61 43 27 57  2]\n",
      " [65 63 21 37 15]\n",
      " [86 30 93 88 36]\n",
      " [85 34 45 41 46]]\n"
     ]
    }
   ],
   "source": [
    "# 10. Create a 5x5 array with random integers from 1 to 100.\n",
    "random_array = np.random.randint(1, 101, size=(5, 5))\n",
    "print(random_array) "
   ]
  },
  {
   "cell_type": "code",
   "execution_count": 28,
   "id": "600c9548",
   "metadata": {},
   "outputs": [
    {
     "name": "stdout",
     "output_type": "stream",
     "text": [
      "[[ 0  1  2  3  4]\n",
      " [ 5  6  7  8  9]\n",
      " [10 11 12 13 14]\n",
      " [15 16 17 18 19]\n",
      " [20 21 22 23 24]]\n",
      "(5, 5)\n"
     ]
    }
   ],
   "source": [
    "# 11. Given the array arr = np.arange(25).reshape(5, 5), find its shape. \n",
    "arr = np.arange(25).reshape(5, 5)\n",
    "print(arr)\n",
    "print(arr.shape)"
   ]
  },
  {
   "cell_type": "code",
   "execution_count": 31,
   "id": "93926eab",
   "metadata": {},
   "outputs": [
    {
     "name": "stdout",
     "output_type": "stream",
     "text": [
      "int32\n"
     ]
    }
   ],
   "source": [
    "# 12. for the same array, find its data type.\n",
    "print(arr.dtype)"
   ]
  },
  {
   "cell_type": "code",
   "execution_count": 32,
   "id": "9273e89d",
   "metadata": {},
   "outputs": [
    {
     "name": "stdout",
     "output_type": "stream",
     "text": [
      "25\n"
     ]
    }
   ],
   "source": [
    "# 13. For the same array arr, find the total number of elements.\n",
    "print(arr.size)"
   ]
  },
  {
   "cell_type": "code",
   "execution_count": 33,
   "id": "c60e9a34",
   "metadata": {},
   "outputs": [
    {
     "name": "stdout",
     "output_type": "stream",
     "text": [
      "[1. 2. 3.]\n"
     ]
    }
   ],
   "source": [
    "# 14. Create the array [1, 2, 3] but make sure its data type is float. \n",
    "array_float = np.array([1, 2, 3], dtype=float)\n",
    "print(array_float)"
   ]
  },
  {
   "cell_type": "code",
   "execution_count": null,
   "id": "104db9a8",
   "metadata": {},
   "outputs": [
    {
     "name": "stdout",
     "output_type": "stream",
     "text": [
      "[1. 2. 3. 4. 5.]\n"
     ]
    }
   ],
   "source": [
    "# 15. Convert the data type of an existing integer array to float.\n",
    "array_int = np.array([1, 2, 3, 4, 5])\n",
    "array_converted = array_int.astype(float)\n",
    "print(array_converted)"
   ]
  },
  {
   "cell_type": "markdown",
   "id": "e80d0819",
   "metadata": {},
   "source": [
    "### Indexing & Slicing (Accessing Your Data)"
   ]
  },
  {
   "cell_type": "code",
   "execution_count": 6,
   "id": "f65d0b25",
   "metadata": {},
   "outputs": [
    {
     "name": "stdout",
     "output_type": "stream",
     "text": [
      "[0 1 2 3 4 5 6 7 8 9]\n"
     ]
    }
   ],
   "source": [
    "arr_1d = np.arange(10)\n",
    "print(arr_1d)"
   ]
  },
  {
   "cell_type": "code",
   "execution_count": 7,
   "id": "a7f0491a",
   "metadata": {},
   "outputs": [
    {
     "name": "stdout",
     "output_type": "stream",
     "text": [
      "[[1 2 3]\n",
      " [4 5 6]\n",
      " [7 8 9]]\n"
     ]
    }
   ],
   "source": [
    "arr_2d = np.array([[1, 2, 3], [4, 5, 6], [7, 8, 9]])\n",
    "print(arr_2d)"
   ]
  },
  {
   "cell_type": "code",
   "execution_count": 5,
   "id": "317cef04",
   "metadata": {},
   "outputs": [
    {
     "name": "stdout",
     "output_type": "stream",
     "text": [
      "0\n"
     ]
    }
   ],
   "source": [
    "# 16. From arr_1d, get the first element.\n",
    "print(arr_1d[0]) "
   ]
  },
  {
   "cell_type": "code",
   "execution_count": 8,
   "id": "eaea8ddc",
   "metadata": {},
   "outputs": [
    {
     "name": "stdout",
     "output_type": "stream",
     "text": [
      "9\n"
     ]
    }
   ],
   "source": [
    "# 17. From arr_1d, get the last element. \n",
    "print(arr_1d[-1])"
   ]
  },
  {
   "cell_type": "code",
   "execution_count": 9,
   "id": "af0936e9",
   "metadata": {},
   "outputs": [
    {
     "name": "stdout",
     "output_type": "stream",
     "text": [
      "[2 3 4 5]\n"
     ]
    }
   ],
   "source": [
    "# 18. From arr_1d, get the elements from index 2 up to index 5.\n",
    "print(arr_1d[2:6]) "
   ]
  },
  {
   "cell_type": "code",
   "execution_count": 10,
   "id": "570f6895",
   "metadata": {},
   "outputs": [
    {
     "name": "stdout",
     "output_type": "stream",
     "text": [
      "[9 8 7 6 5 4 3 2 1 0]\n"
     ]
    }
   ],
   "source": [
    "# 19. From arr_1d, get all elements in reverse order.\n",
    "print(arr_1d[::-1]) "
   ]
  },
  {
   "cell_type": "code",
   "execution_count": 11,
   "id": "c7525967",
   "metadata": {},
   "outputs": [
    {
     "name": "stdout",
     "output_type": "stream",
     "text": [
      "6\n"
     ]
    }
   ],
   "source": [
    "# 20. From arr_2d, get the element at row 1, column 2 (which is 6). \n",
    "print(arr_2d[1, 2])"
   ]
  },
  {
   "cell_type": "code",
   "execution_count": 12,
   "id": "1440a01e",
   "metadata": {},
   "outputs": [
    {
     "name": "stdout",
     "output_type": "stream",
     "text": [
      "[1 2 3]\n"
     ]
    }
   ],
   "source": [
    "# 21. From arr_2d, get the entire first row [1, 2, 3].\n",
    "print(arr_2d[0]) "
   ]
  },
  {
   "cell_type": "code",
   "execution_count": 13,
   "id": "7cbabc1a",
   "metadata": {},
   "outputs": [
    {
     "name": "stdout",
     "output_type": "stream",
     "text": [
      "[2 5 8]\n"
     ]
    }
   ],
   "source": [
    "# 22. From arr_2d, get the entire second column [2, 5, 8].\n",
    "print(arr_2d[:, 1])"
   ]
  },
  {
   "cell_type": "code",
   "execution_count": 14,
   "id": "02d6c118",
   "metadata": {},
   "outputs": [
    {
     "name": "stdout",
     "output_type": "stream",
     "text": [
      "[[1 2]\n",
      " [4 5]]\n"
     ]
    }
   ],
   "source": [
    "# 23. From arr_2d, extract the sub-array [[1, 2], [4, 5]]. \n",
    "print(arr_2d[0:2, 0:2])"
   ]
  },
  {
   "cell_type": "code",
   "execution_count": null,
   "id": "73ed3605",
   "metadata": {},
   "outputs": [
    {
     "name": "stdout",
     "output_type": "stream",
     "text": [
      "[6 7 8 9]\n",
      "[False False False False False False  True  True  True  True]\n"
     ]
    }
   ],
   "source": [
    "# 24. Create a boolean mask to find all numbers in arr_1d that are greater than 5. \n",
    "mask = arr_1d > 5\n",
    "print(mask)"
   ]
  },
  {
   "cell_type": "code",
   "execution_count": 20,
   "id": "c4f366dd",
   "metadata": {},
   "outputs": [
    {
     "name": "stdout",
     "output_type": "stream",
     "text": [
      "[6 7 8 9]\n"
     ]
    }
   ],
   "source": [
    "# 25. Use the boolean mask from the previous question to select the actual numbers from arr_1d. \n",
    "print(arr_1d[mask])"
   ]
  },
  {
   "cell_type": "code",
   "execution_count": 21,
   "id": "115e546b",
   "metadata": {},
   "outputs": [
    {
     "name": "stdout",
     "output_type": "stream",
     "text": [
      "[1 3 5 7 9]\n"
     ]
    }
   ],
   "source": [
    "# 26. In one line, select all numbers from arr_2d that are odd.\n",
    "print(arr_2d[arr_2d % 2 == 1]) "
   ]
  },
  {
   "cell_type": "code",
   "execution_count": 22,
   "id": "86587c1b",
   "metadata": {},
   "outputs": [
    {
     "name": "stdout",
     "output_type": "stream",
     "text": [
      "[0 1 2 3 4 5 0 0 0 0]\n"
     ]
    }
   ],
   "source": [
    "# 27. In arr_1d, replace all values greater than 5 with the value 0. \n",
    "arr_1d[arr_1d > 5] = 0\n",
    "print(arr_1d)"
   ]
  },
  {
   "cell_type": "code",
   "execution_count": 33,
   "id": "13c165fd",
   "metadata": {},
   "outputs": [
    {
     "name": "stdout",
     "output_type": "stream",
     "text": [
      "[20 40 80]\n"
     ]
    }
   ],
   "source": [
    "# 28. From arr_1d, select the elements at indices 1, 3, and 7.\n",
    "arr_1d = np.array([10, 20, 30, 40, 50, 60, 70, 80, 90])\n",
    "print(arr_1d[[1, 3, 7]])\n"
   ]
  },
  {
   "cell_type": "code",
   "execution_count": 36,
   "id": "a8f3204b",
   "metadata": {},
   "outputs": [
    {
     "name": "stdout",
     "output_type": "stream",
     "text": [
      "[[1 2 3]\n",
      " [7 8 9]]\n"
     ]
    }
   ],
   "source": [
    "# 29. From arr_2d, select the first and third rows. \n",
    "print(arr_2d[[0, 2], :])"
   ]
  },
  {
   "cell_type": "code",
   "execution_count": 38,
   "id": "cad05ef4",
   "metadata": {},
   "outputs": [
    {
     "name": "stdout",
     "output_type": "stream",
     "text": [
      "Original array: [10 20 30 40 50]\n",
      "Slice (view): [20 30 40]\n",
      "Fancy index (copy): [20 30 40]\n"
     ]
    }
   ],
   "source": [
    "\"\"\"30. What is the difference between a slice (view) and a fancy index (copy)? Modify a slice of \n",
    "arr_1d and see if the original changes.\"\"\"\n",
    "arr_1d = np.array([10, 20, 30, 40, 50])\n",
    "slice_arr = arr_1d[1:4]  # This creates a view (slice)\n",
    "facny_arr = arr_1d[[1, 2, 3]]  # This creates a copy (fancy index)\n",
    "print(\"Original array:\", arr_1d)\n",
    "print(\"Slice (view):\", slice_arr)\n",
    "print(\"Fancy index (copy):\", facny_arr)"
   ]
  },
  {
   "cell_type": "code",
   "execution_count": 39,
   "id": "915a80d5",
   "metadata": {},
   "outputs": [
    {
     "name": "stdout",
     "output_type": "stream",
     "text": [
      "Original arr_2d:\n",
      " [[1 2 3]\n",
      " [4 5 6]\n",
      " [7 8 9]]\n",
      "Modified copy of arr_2d:\n",
      " [[99  2  3]\n",
      " [ 4  5  6]\n",
      " [ 7  8  9]]\n"
     ]
    }
   ],
   "source": [
    "# 31. Create a copy of arr_2d and modify an element in the copy. Check if the original array is affected.\n",
    "arr_2d_copy = arr_2d.copy()\n",
    "arr_2d_copy[0, 0] = 99\n",
    "print(\"Original arr_2d:\\n\", arr_2d)\n",
    "print(\"Modified copy of arr_2d:\\n\", arr_2d_copy) "
   ]
  },
  {
   "cell_type": "code",
   "execution_count": 40,
   "id": "f35d6385",
   "metadata": {},
   "outputs": [
    {
     "name": "stdout",
     "output_type": "stream",
     "text": [
      "[1 5 9]\n"
     ]
    }
   ],
   "source": [
    "# 32. From arr_2d, get the diagonal elements [1, 5, 9]. \n",
    "print(np.diag(arr_2d))"
   ]
  },
  {
   "cell_type": "code",
   "execution_count": 56,
   "id": "e8e55d30",
   "metadata": {},
   "outputs": [
    {
     "name": "stdout",
     "output_type": "stream",
     "text": [
      "Original \n",
      "[[1 2 3]\n",
      " [4 5 6]\n",
      " [7 8 9]] \n",
      "\n",
      "less than < 5  \n",
      "[[1 2 3]\n",
      " [4 5 6]]\n"
     ]
    }
   ],
   "source": [
    "# 33. Select all rows from arr_2d where the first element is less than 5.\n",
    "arr_2d = np.array([[1, 2, 3], [4, 5, 6], [7, 8, 9]])\n",
    "print(f\"Original \\n{arr_2d} \\n\")\n",
    "print(f\"less than < 5  \\n{arr_2d[arr_2d[:, 0] < 5]}\")"
   ]
  },
  {
   "cell_type": "code",
   "execution_count": 57,
   "id": "fbdea0d8",
   "metadata": {},
   "outputs": [
    {
     "name": "stdout",
     "output_type": "stream",
     "text": [
      "[2 4 9]\n"
     ]
    }
   ],
   "source": [
    "# 34. From arr_2d, select the elements [2, 4, 9]. \n",
    "arr_2d = np.array([[1, 2, 3], [4, 5, 6], [7, 8, 9]])\n",
    "print(arr_2d[[0, 1, 2], [1, 0, 2]])"
   ]
  },
  {
   "cell_type": "code",
   "execution_count": 58,
   "id": "7a0f6525",
   "metadata": {},
   "outputs": [
    {
     "name": "stdout",
     "output_type": "stream",
     "text": [
      "[[7 8 9]\n",
      " [4 5 6]\n",
      " [1 2 3]]\n"
     ]
    }
   ],
   "source": [
    "# 35. Reverse the order of the rows in arr_2d.\n",
    "print(arr_2d[::-1])"
   ]
  },
  {
   "cell_type": "code",
   "execution_count": null,
   "id": "ffac7cc5",
   "metadata": {},
   "outputs": [],
   "source": []
  }
 ],
 "metadata": {
  "kernelspec": {
   "display_name": "base",
   "language": "python",
   "name": "python3"
  },
  "language_info": {
   "codemirror_mode": {
    "name": "ipython",
    "version": 3
   },
   "file_extension": ".py",
   "mimetype": "text/x-python",
   "name": "python",
   "nbconvert_exporter": "python",
   "pygments_lexer": "ipython3",
   "version": "3.12.7"
  }
 },
 "nbformat": 4,
 "nbformat_minor": 5
}
