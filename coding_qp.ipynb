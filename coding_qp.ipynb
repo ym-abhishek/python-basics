{
 "cells": [
  {
   "cell_type": "code",
   "execution_count": 3,
   "id": "aa3f3f6b",
   "metadata": {},
   "outputs": [
    {
     "name": "stdout",
     "output_type": "stream",
     "text": [
      "12 5\n"
     ]
    }
   ],
   "source": [
    "### Q1. Write a python program to swap two variables?\n",
    "a = 5\n",
    "b = 12\n",
    "a, b = b, a\n",
    "print(a, b)"
   ]
  },
  {
   "cell_type": "code",
   "execution_count": 5,
   "id": "d055f5db",
   "metadata": {},
   "outputs": [
    {
     "name": "stdout",
     "output_type": "stream",
     "text": [
      "Abhi\n"
     ]
    }
   ],
   "source": [
    "### Q2. Take user input and display it back to the user?\n",
    "user_input = input(\"What is your Name?\")\n",
    "print(user_input) "
   ]
  },
  {
   "cell_type": "code",
   "execution_count": 10,
   "id": "9af00e52",
   "metadata": {},
   "outputs": [
    {
     "name": "stdout",
     "output_type": "stream",
     "text": [
      "5 is odd.\n"
     ]
    }
   ],
   "source": [
    "### Q3. Write a program to check whether a number is even or odd?\n",
    "num = int(input(\"Guess a number:\"))\n",
    "if num % 2 == 0:\n",
    "    print(f\"{num} is  Even.\")\n",
    "else:\n",
    "    print(f\"{num} is odd.\")"
   ]
  },
  {
   "cell_type": "code",
   "execution_count": 11,
   "id": "17e86681",
   "metadata": {},
   "outputs": [
    {
     "name": "stdout",
     "output_type": "stream",
     "text": [
      "5 x 1 = 5\n",
      "5 x 2 = 10\n",
      "5 x 3 = 15\n",
      "5 x 4 = 20\n",
      "5 x 5 = 25\n",
      "5 x 6 = 30\n",
      "5 x 7 = 35\n",
      "5 x 8 = 40\n",
      "5 x 9 = 45\n",
      "5 x 10 = 50\n"
     ]
    }
   ],
   "source": [
    "### Q4. Create a program that prints the multiplication table of a given number?\n",
    "num = int(input(\"Enter a number: \"))\n",
    "for i in range(1, 11):\n",
    "    print(f\"{num} x {i} = {num * i}\")"
   ]
  },
  {
   "cell_type": "code",
   "execution_count": 16,
   "id": "90a62fcc",
   "metadata": {},
   "outputs": [
    {
     "name": "stdout",
     "output_type": "stream",
     "text": [
      "53\n"
     ]
    }
   ],
   "source": [
    "### Q5. Write a program to find the largest of three numbers?\n",
    "num = [20, 46, 53]\n",
    "print(max(num))\n"
   ]
  },
  {
   "cell_type": "code",
   "execution_count": 20,
   "id": "cb00bba0",
   "metadata": {},
   "outputs": [
    {
     "name": "stdout",
     "output_type": "stream",
     "text": [
      "52°C is equal to 125.60000000000001°F\n"
     ]
    }
   ],
   "source": [
    "### Q6. Convert temperature from Celsius to Fahrenheit?\n",
    "celsius = int(input(\"Enter temperature in Celsius: \"))\n",
    "fahrenheit = (celsius * (9/5)) + 32 # Formula to convert Celsius to Fahrenheit: F = (C * 9/5) + 32\n",
    "print(f\"{celsius}°C is equal to {fahrenheit}°F\")"
   ]
  },
  {
   "cell_type": "code",
   "execution_count": null,
   "id": "62cbe900",
   "metadata": {},
   "outputs": [],
   "source": [
    "### Q7. Write a program to calculate the factorial of a given number?\n",
    "\n"
   ]
  }
 ],
 "metadata": {
  "kernelspec": {
   "display_name": "base",
   "language": "python",
   "name": "python3"
  },
  "language_info": {
   "codemirror_mode": {
    "name": "ipython",
    "version": 3
   },
   "file_extension": ".py",
   "mimetype": "text/x-python",
   "name": "python",
   "nbconvert_exporter": "python",
   "pygments_lexer": "ipython3",
   "version": "3.12.7"
  }
 },
 "nbformat": 4,
 "nbformat_minor": 5
}
