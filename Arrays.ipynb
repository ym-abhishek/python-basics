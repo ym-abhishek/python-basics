{
 "cells": [
  {
   "cell_type": "code",
   "execution_count": 5,
   "id": "30fadd39",
   "metadata": {},
   "outputs": [
    {
     "name": "stdout",
     "output_type": "stream",
     "text": [
      "The array element are: \n",
      "4\n",
      "6\n",
      "2\n",
      "9\n"
     ]
    }
   ],
   "source": [
    "# A Python program to create an integer array.\n",
    "import array \n",
    "a = array.array('i',[4,6,2,9])\n",
    "\n",
    "print(\"The array element are: \")\n",
    "for element in a:\n",
    "    print(element)\n"
   ]
  },
  {
   "cell_type": "code",
   "execution_count": 6,
   "id": "cf7e2641",
   "metadata": {},
   "outputs": [
    {
     "name": "stdout",
     "output_type": "stream",
     "text": [
      "The array elements are: \n",
      "5\n",
      "6\n",
      "-7\n",
      "8\n"
     ]
    }
   ],
   "source": [
    "from array import *\n",
    "a =array('i', [5, 6, -7, 8])\n",
    "\n",
    "print(\"The array elements are: \")\n",
    "for element in a:\n",
    "    print(element)"
   ]
  },
  {
   "cell_type": "code",
   "execution_count": 7,
   "id": "a9867035",
   "metadata": {},
   "outputs": [
    {
     "name": "stdout",
     "output_type": "stream",
     "text": [
      "The array elements are: \n",
      "a\n",
      "b\n",
      "c\n",
      "d\n",
      "e\n"
     ]
    }
   ],
   "source": [
    "# A python program to create an array with a group of characters.\n",
    "from array import *\n",
    "arr = array('u', ['a', 'b', 'c', 'd', 'e'])\n",
    "print(\"The array elements are: \")\n",
    "for ch in arr:\n",
    "    print(ch)"
   ]
  },
  {
   "cell_type": "code",
   "execution_count": 8,
   "id": "75e3b02a",
   "metadata": {},
   "outputs": [
    {
     "name": "stdout",
     "output_type": "stream",
     "text": [
      "The arr2 elements are: \n",
      "1.5\n",
      "2.5\n",
      "-3.5\n",
      "4.0\n"
     ]
    }
   ],
   "source": [
    "# A Python program to create one array from another array.\n",
    "from array import *\n",
    "arr1 = array('d', [1.5, 2.5, -3.5, 4])\n",
    "\n",
    "arr2 = array(arr1.typecode, (a for a in arr1))\n",
    "print(\"The arr2 elements are: \")\n",
    "for i in arr2:\n",
    "    print(i)"
   ]
  },
  {
   "cell_type": "markdown",
   "id": "17d1c94d",
   "metadata": {},
   "source": [
    "### Indexing and slicing on array"
   ]
  },
  {
   "cell_type": "code",
   "execution_count": 9,
   "id": "4f2236ed",
   "metadata": {},
   "outputs": [
    {
     "name": "stdout",
     "output_type": "stream",
     "text": [
      "10 20 30 40 50 "
     ]
    }
   ],
   "source": [
    "# A python program to retrieve the elements of an array using array index.\n",
    "from array import *\n",
    "x = array('i', [10, 20, 30, 40, 50])\n",
    "\n",
    "n = len(x)\n",
    "\n",
    "for i in range(n):\n",
    "    print(x[i], end=\" \")"
   ]
  },
  {
   "cell_type": "code",
   "execution_count": null,
   "id": "d3c6246f",
   "metadata": {},
   "outputs": [
    {
     "name": "stdout",
     "output_type": "stream",
     "text": [
      "array('i', [20, 30, 40])\n"
     ]
    }
   ],
   "source": [
    "# A python program that helps to know the effects of slicing operations on an array.\n",
    "y = x[1:4] # Create array y with elements from 1st to 3rd from x\n",
    "print(y)"
   ]
  },
  {
   "cell_type": "code",
   "execution_count": null,
   "id": "eead2553",
   "metadata": {},
   "outputs": [
    {
     "name": "stdout",
     "output_type": "stream",
     "text": [
      "array('i', [10, 20, 30, 40, 50])\n"
     ]
    }
   ],
   "source": [
    "y = x[0:] # Create array y with elements from 0th till the last element in x.\n",
    "print(y)"
   ]
  },
  {
   "cell_type": "code",
   "execution_count": null,
   "id": "cd34a4b7",
   "metadata": {},
   "outputs": [
    {
     "name": "stdout",
     "output_type": "stream",
     "text": [
      "array('i', [10, 20, 30, 40])\n"
     ]
    }
   ],
   "source": [
    "y = x[:4] # Create array y with elements from 0th to 3rd from x.\n",
    "print(y)"
   ]
  },
  {
   "cell_type": "code",
   "execution_count": null,
   "id": "3e55b331",
   "metadata": {},
   "outputs": [
    {
     "name": "stdout",
     "output_type": "stream",
     "text": [
      "20\n"
     ]
    }
   ],
   "source": [
    "y = x[-4] # Create array y with last 4 elements from x.\n",
    "print(y)"
   ]
  },
  {
   "cell_type": "code",
   "execution_count": 18,
   "id": "e88c6421",
   "metadata": {},
   "outputs": [
    {
     "name": "stdout",
     "output_type": "stream",
     "text": [
      "array('i', [20, 30, 40])\n"
     ]
    }
   ],
   "source": [
    "y = x[-4: -1]\n",
    "print(y)"
   ]
  },
  {
   "cell_type": "code",
   "execution_count": 19,
   "id": "d6db88a4",
   "metadata": {},
   "outputs": [
    {
     "name": "stdout",
     "output_type": "stream",
     "text": [
      "array('i', [10, 30, 50])\n"
     ]
    }
   ],
   "source": [
    "y = x[0:7:2]\n",
    "print(y)"
   ]
  },
  {
   "cell_type": "code",
   "execution_count": 20,
   "id": "6e5d5ae0",
   "metadata": {},
   "outputs": [
    {
     "name": "stdout",
     "output_type": "stream",
     "text": [
      "array('i', [10, 20, 30, 40, 50])\n"
     ]
    }
   ],
   "source": [
    "y = x[0:7]\n",
    "print(y)"
   ]
  },
  {
   "cell_type": "code",
   "execution_count": 21,
   "id": "936314bc",
   "metadata": {},
   "outputs": [
    {
     "name": "stdout",
     "output_type": "stream",
     "text": [
      "30\n",
      "40\n",
      "50\n"
     ]
    }
   ],
   "source": [
    "x = array('i', [10, 20, 30, 40, 50, 60, 70])\n",
    "\n",
    "for i in x[2:5]:\n",
    "    print(i)"
   ]
  },
  {
   "cell_type": "code",
   "execution_count": null,
   "id": "3b0e6cd8",
   "metadata": {},
   "outputs": [],
   "source": [
    "arr = array('i', [10, 20, 30, 40, 50])\n",
    "print(\"Original array: \", arr)\n",
    "\n"
   ]
  }
 ],
 "metadata": {
  "kernelspec": {
   "display_name": "base",
   "language": "python",
   "name": "python3"
  },
  "language_info": {
   "codemirror_mode": {
    "name": "ipython",
    "version": 3
   },
   "file_extension": ".py",
   "mimetype": "text/x-python",
   "name": "python",
   "nbconvert_exporter": "python",
   "pygments_lexer": "ipython3",
   "version": "3.12.7"
  }
 },
 "nbformat": 4,
 "nbformat_minor": 5
}
